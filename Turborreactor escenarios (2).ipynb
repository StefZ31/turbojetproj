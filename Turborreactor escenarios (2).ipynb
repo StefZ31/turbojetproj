{
 "cells": [
  {
   "cell_type": "markdown",
   "metadata": {},
   "source": [
    "# Turborreactor Básico: Ejemplo de Resolución\n",
    "\n",
    "Se tiene un motor de reacción como el de la figura siguiente. El turborreactor funciona aspirando aire ambiente y eyectándolo a mayor velocidad por la tobera generando empuje en la dirección del movimiento.\n",
    "\n",
    "El turborreactor opera en diferentes condiciones de altitud y velocidad de vuelo. En concreto para cada altitud $h_i$ se ensayan todas las velocidades de vuelo $v_j$ siempre que el Mach de vuelo sea $0.3\\leqslant M\\leqslant0.95$:\n",
    "$$h_i=[0, 3000, 6000, 8000, 11000] m$$\n",
    "\n",
    "$$v_i=[100, 150, 200, 250, 300, 320] \\frac{m}{s}$$\n",
    "\n",
    "\n",
    "\n",
    "<center><img src=\"./Recursos/turborreactor_basico.png\"></center>\n",
    "\n",
    "\n",
    "### Datos del turborreactor:\n",
    "#### Difusor:\n",
    "- $\\eta_d=1$ (isoentrópico)\n",
    "- $R_0=0.40m$\n",
    "\n",
    "#### Tobera:\n",
    "- $\\eta_{To}=1$ (isoentrópico)\n",
    "- $R_0=0.25m$\n",
    "- Tobera adaptada, no bloqueada\n",
    "\n",
    "#### Compresor\n",
    "- Acoplado a la turbina ($\\dot{|W_C|} = \\dot{|W_T|}$)\n",
    "- Mach de vuelo:\n",
    "  - Si $M<0.5$\n",
    "    - $\\eta_c=0.7$\n",
    "  - Si $0.5\\leqslant M\\leqslant0.9$\n",
    "    - $\\eta_c=0.7+0.2·\\frac{M-0.5}{0.4}$\n",
    "  - Si $M>0.9$\n",
    "    - $\\eta_c=0.9$\n",
    "- $\\Pi_{32}=20$\n",
    "\n",
    "#### Turbina\n",
    "- Acoplado al compresor ($\\dot{|W_C|} = \\dot{|W_T|}$)\n",
    "- Mach de vuelo:\n",
    "  - Si $T_{4t}<1000K$\n",
    "    - $\\eta_T=0.88$\n",
    "  - Si $1000K\\leqslant T_{4t}\\leqslant2000K$\n",
    "    - $\\eta_T=0.88+0.1·\\frac{T_{4t}-1000}{1000}$\n",
    "  - Si $T_{4t}>2000K$\n",
    "    - $\\eta_T=0.98$\n",
    "\n",
    "#### Cámara de Combustión\n",
    "- Queroseno tipo para la combustión ($C_{14}H_{26}$)\n",
    "- $L=43.25\\frac{MJ}{kg}$\n",
    "- $f=0.3f_{est}$\n",
    "- $c = fG$\n",
    "- $\\Pi_{43}=0.95$\n",
    "- $\\eta_q=0.95$"
   ]
  },
  {
   "cell_type": "markdown",
   "metadata": {},
   "source": [
    "### Datos del aire:\n",
    "#### Temperatura (ISA+0)\n",
    "$$T(h)=298.15K - 6.5\\frac{h}{1000m} K$$\n",
    "\n",
    "#### Presión en función de la altura:\n",
    "$$P(h) = 101325 (-2.25577·10^{-5}·h(m))^{5.225588}$$\n",
    "\n",
    "#### Modelo de Calor Específico Real:\n",
    "$$c_p(T) = c_p{_0} + c_p{_1}(T-273) + c_p{_2}(T-273)^2$$\n",
    "$$c_p{_0} = 1004 \\frac{J}{kg K}$$\n",
    "$$c_p{_1} = 0.1153 \\frac{J}{kg K^2}$$\n",
    "$$c_p{_2} = 1.564·10^{-4} \\frac{J}{kg K^3}$$\n",
    "\n",
    "#### Coeficiente de Dilatación Adiabático:\n",
    "$$\\gamma_a(T)=1.405 - 0.11\\frac{T-175}{1825}$$\n",
    "\n",
    "#### Constante del aire:\n",
    "$$R_a(T)=c_p(T) - c_v(T)=c_p(T) - \\frac{c_p(T)}{\\gamma_a(T)}$$\n",
    "\n",
    "### Masas Moleculares\n",
    "- Hidrógeno: $M_H=1\\frac{g}{mol}$\n",
    "- Oxígeno: $M_O=16\\frac{g}{mol}$\n",
    "- Nitrógeno: $M_N=14\\frac{g}{mol}$\n",
    "- Carbono: $M_C=12\\frac{g}{mol}$\n",
    "- Aire: $M_a=0.21·2·M_O + 0.79·2·M_N$\n",
    "- Queroseno: $M_q=14·M_C + 26·M_H$"
   ]
  },
  {
   "cell_type": "markdown",
   "metadata": {},
   "source": [
    "##### Objetivo:\n",
    "Obtener empuje, impulso específico, consumo específico, rendimiento motor, rendimiento propulsor y rendimiento motopropulsor del turborreactor para cada condición de vuelo (altitud-velocidad) que cumpla el criterio de Mach $0.3\\leqslant M\\leqslant 0.95$.\n",
    "\n",
    "Con motivo de que la resolución de este turborreactor quede lo más didáctica posible, se plantea en primer lugar la solución de una condición de vuelo ($h_0=0m, P_0=101325Pa, v_0=250\\frac{m}{s}$) y luego se resuelven, en bucle, todas las condiciones de vuelo que cumplan el criterio de Mach."
   ]
  },
  {
   "cell_type": "markdown",
   "metadata": {},
   "source": [
    "# Resolución:\n",
    "## Pasos a seguir:\n",
    "Para empezar la solución de la entrega, en primer lugar se incorporan al código los datos del problema (datos del aire, de cada etapa del turborreactor, del combustible y de la condición de vuelo). Luego se da paso a calcular las condiciones de vuelo consideradas y evaluar cuales cumplen y cuales no (las que no cumplan, no serán calculadas). Una vez se haya obtenido la lista de condiciones de vuelo, se puede proceder a resolver el Turborreactor.\n",
    "0. **Importaciones**\n",
    "    1. _Numpy_\n",
    "    2. _Pyplot_ de _Matplotlib_\n",
    "    3. Axes3D de mpl_toolkits\n",
    "    4. _Sympy_\n",
    "1. **Datos del aire**\n",
    "    1. $T$\n",
    "    2. $P$\n",
    "    3. $c_p$\n",
    "    4. $\\gamma$\n",
    "    5. $R_a$\n",
    "    6. Mach\n",
    "2. **Datos del turborreactor**\n",
    "    1. Datos independientes a la condición de vuelo:\n",
    "        1. Área de entrada al TB\n",
    "        2. Área de salida al TB\n",
    "        3. Proceso de combustión y dosado\n",
    "    2. Datos del compresor y turbina\n",
    "        1. Rendimiento adiabático de compresor\n",
    "        2. Rendimiento adiabático de turbina\n",
    "        3. Acoplamiento mecánico compresor-turbina\n",
    "    3. Magnitudes de remanso\n",
    "    4. Actuaciones del Turborreactor:\n",
    "        1. Empuje\n",
    "        2. Impulso específico\n",
    "        3. Consumo específico\n",
    "    5. Rendimientos:\n",
    "        1. Motor\n",
    "        2. Propulsor\n",
    "        3. Motopropulsor\n",
    "3. **Condición de vuelo**\n",
    "    1. Obtención de la condición de vuelo ($h_0, v_0$) y de las propiedades termodinámicas estáticas ($P_0, T_0, \\rho_0$) y del Mach\n",
    "    2. Evaluación del cumplimiento de la condición de Mach. Para los casos de cumplimiento se resuelve el Turborreactor\n",
    "4. **Solución del Turborreactor para una condición de vuelo:**\n",
    "    1. Condiciones del difusor (presión, temperatura, densidad y gasto de aire)\n",
    "    2. Presión y temperatura de remanso en el compresor\n",
    "    3. Asumiendo gasto de combustible no despreciable, cálculo de presión y temperatura de remanso en la cámara de combustión\n",
    "    4. Acoplamiento mecánico de la turbina y el compresor\n",
    "    5. Obtención de temperatura y presión en la tobera, acoplando la velocidad y el gasto\n",
    "    6. Cálculo del empuje, el impulso específico, el consumo específico\n",
    "    7. Cálculo de los rendimientos\n",
    "5. **Solución de todas las condiciones de vuelo viables**\n",
    "6. **Figuras y resultados**"
   ]
  },
  {
   "cell_type": "markdown",
   "metadata": {},
   "source": [
    "### 1) Importaciones:"
   ]
  },
  {
   "cell_type": "code",
   "execution_count": 22,
   "metadata": {},
   "outputs": [],
   "source": [
    "#Importaciones de librerias necesarias\n",
    "import numpy as np\n",
    "#%matplotlib inline\n",
    "from mpl_toolkits.mplot3d import Axes3D\n",
    "from matplotlib import pyplot as plt\n",
    "from sympy import *\n",
    "#init_session(use_latex=True)\n",
    "\n",
    "#Masas moleculares:\n",
    "Mc = 12 #u - carbono\n",
    "Mh = 1  #u - hidrógeno\n",
    "Mo = 16 #u - oxígeno\n",
    "Mn = 14 #u -  nitrógeno"
   ]
  },
  {
   "cell_type": "markdown",
   "metadata": {},
   "source": [
    "### 2) Datos del aire:\n",
    "Temperatura y presión en función de la altura, cp y gamma como funciones de la temperatura, constante del aire como función del cp y gamma y número de Mach:"
   ]
  },
  {
   "cell_type": "code",
   "execution_count": 23,
   "metadata": {},
   "outputs": [],
   "source": [
    "#Temperatura en función de la altura:\n",
    "Temp_base = 15 #ºC\n",
    "Pres_base = 101325 #Pa\n",
    "def Temp(h, Temp_base=15):\n",
    "    if h<0 or h>15000:\n",
    "        print('Altura de vuelo errónea!')\n",
    "    else:\n",
    "        return Temp_base - 6.5*h/1000 + 273.15\n",
    "\n",
    "#Presión en función de la altura:\n",
    "def Pres(h, Pres_base=101325):\n",
    "    if h<0 or h>15000:\n",
    "        print('Altura de vuelo errónea!')\n",
    "    else:\n",
    "        return Pres_base*(1-2.25577*h*1e-5)**5.25588\n",
    "\n",
    "#Calor específico en función de la temperatura:\n",
    "def cp(T):\n",
    "    cp0 = 1004\n",
    "    cp1 = 0.1153\n",
    "    cp2 = 1.564e-4\n",
    "    if T<273:\n",
    "        cp_=1004\n",
    "    elif T<=2000:\n",
    "        cp_ = cp0 + cp1*(T-273) + cp2*(T-273)**2\n",
    "    else:\n",
    "        print('Temperatura del aire demasiado alta!')\n",
    "    return cp_\n",
    "\n",
    "#Coeficiente de dilatación adiabático del aire:\n",
    "def gamma_a(T):\n",
    "    if T<175:\n",
    "        return 1.405\n",
    "    elif T<=2000:\n",
    "        return 1.405 - 0.11*(T-175)/1825\n",
    "    else:\n",
    "        print('Temperatura del aire demasiado alta!')\n",
    "\n",
    "#Constante del aire en función de la temperatura:\n",
    "def Ra(T):\n",
    "    return cp(T) - cp(T)/gamma_a(T)\n",
    "\n",
    "#Número de Mach:\n",
    "def Mach(v, T):\n",
    "    return v/np.sqrt(gamma_a(T)*Ra(T)*T)\n",
    "\n",
    "#Masa Molecular del aire:\n",
    "Maire = 0.21*2*Mo + 0.79*2*Mn"
   ]
  },
  {
   "cell_type": "markdown",
   "metadata": {},
   "source": [
    "### 3) Datos del Turborreactor\n",
    "#### A)Datos Independientes de la condición de vuelo del Difusor, Tobera y Cámara de Combustión:"
   ]
  },
  {
   "cell_type": "code",
   "execution_count": 24,
   "metadata": {},
   "outputs": [],
   "source": [
    "#Geometría de Entrada y Salida:\n",
    "R0 = 0.4 #m\n",
    "A0 = np.pi*R0**2 #m² área de entrada al TB\n",
    "Rs = 0.25 #m\n",
    "As = np.pi*Rs**2 #m² área de salida de la tobera"
   ]
  },
  {
   "cell_type": "markdown",
   "metadata": {},
   "source": [
    "La reacción de combustión con queroseno es:\n",
    "$$ C_{14}H_{26} + 20.5(O_2+3.76N_2) \\rightarrow 14CO_2 + 6.5H_2O + 76.86N_2$$"
   ]
  },
  {
   "cell_type": "code",
   "execution_count": 25,
   "metadata": {},
   "outputs": [],
   "source": [
    "#Condiciones de la combustión:\n",
    "#Poder Calorífico:\n",
    "L=43.25e6 #J/kg\n",
    "\n",
    "#Masa molecular:\n",
    "Mq = 14*Mc + 26*Mh\n",
    "\n",
    "#Dosado estequiométrico y real:\n",
    "fest = Mq / ((14 + 26/4)*4.76*Maire)\n",
    "f = 0.3*fest\n",
    "\n",
    "#Rendimiento de la combustion y pérdida de presión en la cámara\n",
    "Pi43 = 0.95\n",
    "eta_q = 0.95"
   ]
  },
  {
   "cell_type": "markdown",
   "metadata": {},
   "source": [
    "#### B) Datos del Compresor y la Turbina"
   ]
  },
  {
   "cell_type": "code",
   "execution_count": 26,
   "metadata": {
    "collapsed": true
   },
   "outputs": [],
   "source": [
    "#Relación de compresión Difusor-Compresor:\n",
    "Pi32 = 20\n",
    "\n",
    "#Rendimiento del compresor en función del Mach\n",
    "def Rend_compr(M):\n",
    "    if M>0 and M<0.5:\n",
    "        eta_c = 0.7\n",
    "    elif M>=0.5 and M<=0.9:\n",
    "        eta_c = 0.7 + 0.2*(M-0.5)/0.4\n",
    "    else:\n",
    "        eta_c = 0.9\n",
    "    return eta_c\n",
    "        \n",
    "#Rendimiento de la turbina en función de la temperatura fin de combustión:\n",
    "def Rend_turb(T4t):\n",
    "    if T4t<1000:\n",
    "        eta_t = 0.88\n",
    "    elif T4t>= 1000 and T4t<=2000:\n",
    "        eta_t = 0.88 + 0.1*(T4t - 1000)/1000\n",
    "    else:\n",
    "        eta_t = 0.98\n",
    "    return eta_t"
   ]
  },
  {
   "cell_type": "markdown",
   "metadata": {},
   "source": [
    "El acoplamiento mecánico entre compresor y turbina impone el incremento de entalpía entre las estaciones 23 y 45 (iguales y de signo contrario). Como la temperatura $T_{3t}$ fin de compresión se puede obtener mediante las condiciones de entrada (difusor isoentrópico) y el rendimiento adiabático del compresor, el acoplamiento mecánico nos ofrece la temperatura de remanso tras la expansión en función del compresor y la temperatura $T_{4t}$:\n",
    "\n",
    "$$\\dot{W_C}+\\dot{W_T}=0 \\Rightarrow G·c_p(T)·(T_{3t}-T_{2t})=-(G+c)·c_p(T)(T_{5t}-T_{4t})$$\n",
    "$$T_{5t}=-\\frac{G}{G+c}\\frac{c^{comp}_p(T)}{c^{turb}_p(T)}\\left( T_{3t}-T_{2t}\\right) + T_{4t} \\Rightarrow T_{5t}=-\\frac{1}{1+f}\\frac{c^{comp}_p(T)}{c^{turb}_p(T)}\\left( T_{3t}-T_{2t}\\right) + T_{4t}$$\n",
    "\n",
    "Para calcular el $c_p(T)$ en la estación de compresión y en la de expansión podemos asumir que la temperatura media es $T_{comp}=\\frac{T_{3t}-T_{2t}}{2}$ y $T_{turb}=\\frac{T_{5t}-T_{4t}}{2}$ respectivamente.\n",
    "\n",
    "La temperatura $T_{5t}$ que se quiere resolver está presente, por tanto, en el $c_p$. Una manera sencilla de obtener la temperatura de remanso a la salida de la turbina sin tener que resolver la ecuación resultante de sustituir el $c_p(T_{5t})$ en la expresión anterior es iterando entre $T_{5t}$ y la temperatura media de la estación de expansión. El proceso sería:\n",
    "1. <center>Asumir una $T^0_{5t}$ inicial (por ejemplo $T^0_{5t}=T_{4t}$) para empezar a iterar\n",
    "</center>\n",
    "2. <center>Obtener $T^i_{turb}=\\frac{T^{i-1}_{5t}-T_{4t}}{2}$\n",
    "</center>\n",
    "3. <center>Calcular  $c^i_p(T^i_{turb})$\n",
    "</center>\n",
    "4. <center>Resolver $T^i_{5t}=-\\frac{1}{1+f}\\frac{c^{comp}_p(T_{comp})}{c^{turb}_p(T^i_{turb})}\\left( T_{3t}-T_{2t}\\right) + T_{4t}$\n",
    "</center>\n",
    "5. <center> Si el residuo (la diferencia entre dos iteraciones consecutivas) de las temperaturas $T_{5t}$ es menor que una cantidad prefijada $\\epsilon > |T^i_{5t} - T^{i-1}_{5t}|$ se obtiene la temperatura $T_{5t}$. Si no, se sigue iterando entre los pasos 2, 3, 4 y 5 "
   ]
  },
  {
   "cell_type": "code",
   "execution_count": 27,
   "metadata": {},
   "outputs": [],
   "source": [
    "def T5t_func(f, T2t, T3t, T4t):\n",
    "    #Temperatura promedio en la etapa de compresión:\n",
    "    Tcomp = 0.5*(T3t+T2t)\n",
    "    \n",
    "    #Asumimos la temperatura media de la turbina como la T4t e iniciamos las iteraciones:\n",
    "    T5t = T4t\n",
    "    sigue_iterando = True\n",
    "    contador = 1\n",
    "    \n",
    "    #Iteraciones para resolver T5t:\n",
    "    while sigue_iterando:\n",
    "        T5t_ = T5t #Se guarda la temperatura T5t anterior\n",
    "        \n",
    "        #Estimación de la temperatura media con la temperatura T5t de la iteracion anterior:\n",
    "        Tturb = 0.5*(T4t+T5t)\n",
    "        \n",
    "        #Obtención de nueva T5t:\n",
    "        T5t = -1/(1+f)*cp(Tcomp)*(T3t - T2t)/(cp(Tturb)) + T4t\n",
    "        \n",
    "        #Cálculo de la diferencia entre la estimación anterior y la nueva:\n",
    "        residuo = abs((T5t - T5t_)/T5t_)\n",
    "        \n",
    "        #Evaluación de la condición de parada:\n",
    "        if residuo <=1e-6:\n",
    "            #Se cumple la tolerancia impuesta: T5t obtenida!\n",
    "            sigue_iterando = False\n",
    "        elif contador>999:\n",
    "            #Demasiadas iteraciones. T5t aproximada (comprobar el valor)\n",
    "            sigue_iterando = False\n",
    "        else:\n",
    "            sigue_iterando = True\n",
    "            contador += 1 #Actualización del indice de la iteración\n",
    "        #print(contador, T5t, T5t_, residuo)\n",
    "    return T5t\n"
   ]
  },
  {
   "cell_type": "markdown",
   "metadata": {},
   "source": [
    "La resolución de la temperatura de remanso a la salida de la turbina depende del salto de entalpía del compresor y ésta a su vez del incremento de temperatura (donde aparece de la temperatura del difusor y del compresor) y del $c_p$, que es función de la temperatura media del compresor donde vuelve a aparecer $T_{3t}$.\n",
    "$$ \\Delta H_{32} = G·c_p(T_{comp})·(T_{3t}-T_{2t})$$\n",
    "\n",
    "Se puede plantear un esquema similar al de $T_{5t}$ (iterar asumiendo una $T_{3t}$ inicial e ir haciendo converger la solución). De todas formas, como la diferencia de temperaturas entre $T_{3t}$ y $T_{2t}$ es apreciablemente inferior a $T_{5t}$ y $T_{4t}$, se podría discutir la conveniencia de plantear la hipótesis de que $T_{comp}=T_{2t}$.\n",
    "\n",
    "En cualquier caso, la presente solución se obtendrá iterando sobre $T_{3t}$ de manera análoga a $T_{5t}$."
   ]
  },
  {
   "cell_type": "code",
   "execution_count": 28,
   "metadata": {},
   "outputs": [],
   "source": [
    "#Obtención de T3t:\n",
    "def T3t_func(T2t, Pi32, eta_c):\n",
    "    #Asumimos la temperatura media del compresor como la T3t e iniciamos las iteraciones:\n",
    "    T3t = T2t\n",
    "    sigue_iterando = True\n",
    "    contador = 1\n",
    "    \n",
    "    #Iteraciones para resolver T3t:\n",
    "    while sigue_iterando:\n",
    "        T3t_ = T3t #Se guarda la temperatura T3t anterior\n",
    "        \n",
    "        #Estimación de la temperatura media con la temperatura T3t de la iteracion anterior:\n",
    "        Tcomp = 0.5*(T3t+T2t)\n",
    "        \n",
    "        #Obtención de nueva T3t:\n",
    "        T3t = T2t * (((Pi32)**((gamma_a(Tcomp)-1)/gamma_a(Tcomp))-1)/eta_c + 1)\n",
    "        \n",
    "        #Cálculo de la diferencia entre la estimación anterior y la nueva:\n",
    "        residuo = abs((T3t - T3t_)/T3t_)\n",
    "        \n",
    "        #Evaluación de la condición de parada:\n",
    "        if residuo <=1e-1:\n",
    "            #Se cumple la tolerancia impuesta: T3t obtenida!\n",
    "            sigue_iterando = False\n",
    "        elif contador>999:\n",
    "            #Demasiadas iteraciones. T3t aproximada (comprobar el valor)\n",
    "            sigue_iterando = False\n",
    "        else:\n",
    "            sigue_iterando = True\n",
    "            contador += + 1 #Actualización del indice de la iteración\n",
    "            \n",
    "        print(contador, T3t, T3t_,Tcomp, residuo)\n",
    "    return T3t\n"
   ]
  },
  {
   "cell_type": "markdown",
   "metadata": {},
   "source": [
    "##### C) Magnitudes de remanso:\n",
    "**Temperatura de Remanso:** $$T_t = T + \\frac{v^2}{2c_p}\\Rightarrow \\frac{T_t}{T}=\\left(1+\\frac{\\gamma(T)-1}{2}M^2\\right)$$\n",
    "\n",
    "**Presión de Remanso:**\n",
    "$$\\frac{P_t}{P}=\\left(\\frac{T_t}{T}\\right)^{\\frac{\\gamma(T)}{\\gamma(T)-1}}$$\n",
    "\n",
    "**Densidad de Remanso:**\n",
    "$$\\frac{\\rho_t}{\\rho}=\\left(\\frac{T_t}{T}\\right)^{\\frac{\\gamma(T)-1}{\\gamma(T)}}$$\n",
    "\n",
    "**Velocidad de la corriente dadas las temperaturas de estática y remanso**:\n",
    "\n",
    "$$v=\\sqrt{2\\left( T_t-T\\right)c_p(T)}$$"
   ]
  },
  {
   "cell_type": "code",
   "execution_count": 29,
   "metadata": {
    "collapsed": true
   },
   "outputs": [],
   "source": [
    "#Función Gamma\n",
    "def Gamma_func(T, M):\n",
    "    return (1+0.5*(gamma_a(T)-1)*M**2)\n",
    "\n",
    "#Temperatura de remanso en función del Mach\n",
    "def Tt(T, M):\n",
    "    return (T*Gamma_func(T, M))\n",
    "\n",
    "#Temperatura de remanso en función de la velocidad\n",
    "def Ttv(T, v):\n",
    "    return T + 0.5*v*v/cp(T)\n",
    "\n",
    "#Velocidad del fluido dadas las condiciones de remanso y estática\n",
    "def v_Tt(Tt, T):\n",
    "    return (np.sqrt(2*(Tt-T)*cp(T)))\n",
    "\n",
    "#Presión de remanso en función del Mach\n",
    "def Pt(P, T, gamma, M):\n",
    "    return P*(Gamma_func(T, M))**(gamma_a(T)/(gamma_a(T)-1))\n",
    "\n",
    "#Densidad de remanso en función del Mach\n",
    "def rhot(rho, gamma, M):\n",
    "    return rho*(Gamma_func(T, M))**((gamma_a(T)-1)/gamma_a(T))"
   ]
  },
  {
   "cell_type": "markdown",
   "metadata": {},
   "source": [
    "##### D) Cálculo del Empuje, Impulso Específico y Consumo Específico\n",
    "La obtención del Empuje neto y el Impulso Específico del Turborreactor viene impuesto por la velocidad de salida del fluido. La corriente se expande de forma ideal en la tobera (isentrópica y adaptada), con lo que a través del rendimiento de la tobera se puede resolver la velocidad del fluido si se tienen las condiciones termodinámicas de remanso y estáticas.\n",
    "\n",
    "La resolución de la temperatura de salida a través del rendimiento adiabático de la tobera (unidad) implica, de nuevo, estimar el $c_p$ en condiciones de temperatura de la tobera. Dicha temperatura, al uso del compresor y la turbina, se promediará como:\n",
    "\n",
    "$$T_{tob}=\\frac{T_{8t}+T_8}{2}$$\n",
    "\n",
    "Lo cual nos lleva a, por comodidad, plantear $ T_8$ mediante un proceso iterativo que converja hacia la solución real."
   ]
  },
  {
   "cell_type": "code",
   "execution_count": 30,
   "metadata": {
    "collapsed": true
   },
   "outputs": [],
   "source": [
    "#Obtención de T8:\n",
    "def T8_func(T5t, Pi85, eta_tob):\n",
    "    #Asumimos la temperatura media de la tobera como la T5t e iniciamos las iteraciones:\n",
    "    T8 = T5t\n",
    "    sigue_iterando = True\n",
    "    contador = 1\n",
    "    \n",
    "    #Iteraciones para resolver T4t:\n",
    "    while sigue_iterando:\n",
    "        T8_ = T8 #Se guarda la temperatura T4t anterior\n",
    "        \n",
    "        #Estimación de la temperatura media con la temperatura T8 de la iteracion anterior:\n",
    "        Ttob = 0.5*(T8+T5t)\n",
    "        \n",
    "        #Obtención de nueva T4t:\n",
    "        T8 = ((Pi85**((gamma_a(Ttob)-1)/gamma_a(Ttob)) - 1)*eta_tob + 1)*T5t\n",
    "        \n",
    "        #Cálculo de la diferencia entre la estimación anterior y la nueva:\n",
    "        residuo = abs((T8 - T8_)/T8_)\n",
    "        \n",
    "        #Evaluación de la condición de parada:\n",
    "        if residuo <=1e-6:\n",
    "            #Se cumple la tolerancia impuesta: T8 obtenida!\n",
    "            sigue_iterando = False\n",
    "        elif contador>999:\n",
    "            #Demasiadas iteraciones. T8 aproximada (comprobar el valor)\n",
    "            sigue_iterando = False\n",
    "        else:\n",
    "            sigue_iterando = True\n",
    "            contador += 1 #Actualización del indice de la iteración\n",
    "            \n",
    "#        print(contador, T5t,Pi85,T8, T8_,Ttob, residuo, gamma_a(Ttob))\n",
    "    return T8"
   ]
  },
  {
   "cell_type": "markdown",
   "metadata": {},
   "source": [
    "Por otro lado, las actuaciones del turborreactor (empuje neto, impulso específico y consumo específico) responden a las siguientes expresiones:\n",
    "\n",
    "**Empuje:** $ E = (G+c)V_s - GV_0 + (P_s - P_0)A_s$\n",
    "\n",
    "**Impulso:** $I_E = \\frac{E}{G} \\approx V_s - V_0$\n",
    "\n",
    "**Consumo Específico:** $C_E=\\frac{c}{E} \\approx \\frac{f}{V_s - V0}$"
   ]
  },
  {
   "cell_type": "code",
   "execution_count": 31,
   "metadata": {},
   "outputs": [],
   "source": [
    "#Empuje, impulso específico y consumo específico del Turborreactor\n",
    "def actuaciones_TB(G, c, vs, v0, Ps, P0, As):\n",
    "    #Empuje entre difusor y tobera del TB\n",
    "    E = (G+c)*vs - G*v0 + (Ps-P0)*As\n",
    "    #Impulso específico total (sin aproximar la Ps)\n",
    "    Ie= E/G\n",
    "    \n",
    "    #Consumo específico total (sin aproximar la presión de salida)\n",
    "    Ce=c/E\n",
    "    \n",
    "    return E, Ie, Ce\n"
   ]
  },
  {
   "cell_type": "markdown",
   "metadata": {},
   "source": [
    "##### E) Rendimientos:\n",
    "**Rendimiento Motor:** $\\eta_{motor}=\\frac{E_{neto}v_0 + \\frac{1}{2}(G+c)(v_s-v_0)^2 -\\frac{1}{2}cv_0^2}{cL}$\n",
    "\n",
    "**Rendimiento Propulsor:** $\\eta_{propulsor}=\\frac{E_{neto}v_0}{E_{neto}v_0 + \\frac{1}{2}(G+c)(v_s-v_0)^2 -\\frac{1}{2}cv_0^2}$\n",
    "\n",
    "**Rendimiento Motopropulsor:**\n",
    "$\\eta_{mp}=\\frac{E_{neto}v_0}{cL}$"
   ]
  },
  {
   "cell_type": "code",
   "execution_count": 32,
   "metadata": {},
   "outputs": [],
   "source": [
    "# Rendimiento motor, propulsor y motopropulsor:\n",
    "def rendimiento_TB(Eneto, G, c, vs, v0, L):\n",
    "    #Rendimiento motor:\n",
    "    eta_m = (Eneto*v0+0.5*(G+c)*(vs-v0)**2-0.5*c*v0**2)/(c*L)\n",
    "    \n",
    "    #Rendimiento propulsor:\n",
    "    eta_p = Eneto*v0/(Eneto*v0 + 0.5*(G+c)*(vs-v0)**2-0.5*c*v0**2)\n",
    "    \n",
    "    #Rendimiento motopropulsor:\n",
    "    eta_mp = eta_m * eta_p\n",
    "    \n",
    "    return eta_m, eta_p, eta_mp\n",
    "    "
   ]
  },
  {
   "cell_type": "markdown",
   "metadata": {},
   "source": [
    "### 4) Condición de Vuelo\n",
    "En total se ensayarán las condiciones de altitud $h_i=[0, 3000, 6000, 8000, 13000] m$ y velocidad $v_i=[100, 150, 200, 250, 300, 320] \\frac{m}{s}$ que cumplan $0.3\\leqslant M\\leqslant0.95$"
   ]
  },
  {
   "cell_type": "code",
   "execution_count": 33,
   "metadata": {},
   "outputs": [],
   "source": [
    "#Todas la condiciones de velocidad y altura:\n",
    "altitud = [0, 3000, 6000, 8000, 13000] #m\n",
    "velocidad = [100, 150, 200, 250, 300, 320] #m/s\n",
    "ii = 0\n",
    "\n",
    "#Preparamos una lista vacía para guardar T0, P0, rho0, M0 y si cumple o no el criterio de Mach\n",
    "casos = [None]*len(altitud)*len(velocidad)\n",
    "for h0 in altitud:\n",
    "    for v0 in velocidad:\n",
    "        #Obtención de las condiciones de entrada al TB para cada condición de vuelo\n",
    "        T0 = Temp(h0)\n",
    "        P0 = Pres(h0)\n",
    "        rho0 = P0/Ra(T0)/T0\n",
    "        M0 = Mach(v0, T0)\n",
    "        if M0 >=0.3 and M0<=0.95:\n",
    "            #Cumplimiento de la condición de Mach\n",
    "            volado = True\n",
    "        else:\n",
    "            volado = False\n",
    "        #Se almacena la condición de entrada y la de Mach\n",
    "        casos[ii] = [volado, T0, P0, rho0, M0, h0, v0]\n",
    "        ii += 1"
   ]
  },
  {
   "cell_type": "markdown",
   "metadata": {},
   "source": [
    "Las condiciones de vuelo que cumplen el criterio de Mach son:"
   ]
  },
  {
   "cell_type": "code",
   "execution_count": 34,
   "metadata": {
    "scrolled": false
   },
   "outputs": [
    {
     "name": "stdout",
     "output_type": "stream",
     "text": [
      "h0=    0m, v0=150.0m/s, Mach=0.442, T0=288.1K, P0=101325Pa, rho0=1.2277kg/m³, \n",
      "h0=    0m, v0=200.0m/s, Mach=0.589, T0=288.1K, P0=101325Pa, rho0=1.2277kg/m³, \n",
      "h0=    0m, v0=250.0m/s, Mach=0.736, T0=288.1K, P0=101325Pa, rho0=1.2277kg/m³, \n",
      "h0=    0m, v0=300.0m/s, Mach=0.883, T0=288.1K, P0=101325Pa, rho0=1.2277kg/m³, \n",
      "h0=    0m, v0=320.0m/s, Mach=0.942, T0=288.1K, P0=101325Pa, rho0=1.2277kg/m³, \n",
      "h0= 3000m, v0=100.0m/s, Mach=0.305, T0=268.6K, P0=70109Pa, rho0=0.9108kg/m³, \n",
      "h0= 3000m, v0=150.0m/s, Mach=0.457, T0=268.6K, P0=70109Pa, rho0=0.9108kg/m³, \n",
      "h0= 3000m, v0=200.0m/s, Mach=0.609, T0=268.6K, P0=70109Pa, rho0=0.9108kg/m³, \n",
      "h0= 3000m, v0=250.0m/s, Mach=0.762, T0=268.6K, P0=70109Pa, rho0=0.9108kg/m³, \n",
      "h0= 3000m, v0=300.0m/s, Mach=0.914, T0=268.6K, P0=70109Pa, rho0=0.9108kg/m³, \n",
      "h0= 6000m, v0=100.0m/s, Mach=0.316, T0=249.1K, P0=47181Pa, rho0=0.6595kg/m³, \n",
      "h0= 6000m, v0=150.0m/s, Mach=0.474, T0=249.1K, P0=47181Pa, rho0=0.6595kg/m³, \n",
      "h0= 6000m, v0=200.0m/s, Mach=0.632, T0=249.1K, P0=47181Pa, rho0=0.6595kg/m³, \n",
      "h0= 6000m, v0=250.0m/s, Mach=0.790, T0=249.1K, P0=47181Pa, rho0=0.6595kg/m³, \n",
      "h0= 6000m, v0=300.0m/s, Mach=0.948, T0=249.1K, P0=47181Pa, rho0=0.6595kg/m³, \n",
      "h0= 8000m, v0=100.0m/s, Mach=0.324, T0=236.1K, P0=35600Pa, rho0=0.5243kg/m³, \n",
      "h0= 8000m, v0=150.0m/s, Mach=0.486, T0=236.1K, P0=35600Pa, rho0=0.5243kg/m³, \n",
      "h0= 8000m, v0=200.0m/s, Mach=0.648, T0=236.1K, P0=35600Pa, rho0=0.5243kg/m³, \n",
      "h0= 8000m, v0=250.0m/s, Mach=0.810, T0=236.1K, P0=35600Pa, rho0=0.5243kg/m³, \n",
      "h0=13000m, v0=100.0m/s, Mach=0.348, T0=203.6K, P0=16348Pa, rho0=0.2782kg/m³, \n",
      "h0=13000m, v0=150.0m/s, Mach=0.522, T0=203.6K, P0=16348Pa, rho0=0.2782kg/m³, \n",
      "h0=13000m, v0=200.0m/s, Mach=0.697, T0=203.6K, P0=16348Pa, rho0=0.2782kg/m³, \n",
      "h0=13000m, v0=250.0m/s, Mach=0.871, T0=203.6K, P0=16348Pa, rho0=0.2782kg/m³, \n"
     ]
    },
    {
     "data": {
      "image/png": "[encoded data removed]",
      "text/plain": [
       "<matplotlib.figure.Figure at 0x1115fd128>"
      ]
     },
     "metadata": {},
     "output_type": "display_data"
    }
   ],
   "source": [
    "#%matplotlib inline\n",
    "plt.figure()\n",
    "for item in casos:\n",
    "    if item[0] is True:\n",
    "        print('h0={5:5.0f}m, v0={6:1.1f}m/s, Mach={4:1.3f}, T0={1:3.1f}K, P0={2:5.0f}Pa, rho0={3:1.4f}kg/m³, '.format(*item))\n",
    "        plt.scatter(item[6], item[5], s=30, c='g', marker='s')\n",
    "    else:\n",
    "        plt.scatter(item[6], item[5], s=50, c='r', marker='o')\n",
    "plt.show()\n",
    "\n"
   ]
  },
  {
   "cell_type": "markdown",
   "metadata": {},
   "source": [
    "### 5) Solución del Turborreactor para cada Condición de Vuelo:\n",
    "##### A) Difusor:\n",
    "Con la condición de difusor isentrópico, y para cada condición de vuelo, se tienen las condiciones de remanso en la entrada a partir de las propiedades termodinámicas estáticas (P0, T0, rho0):\n",
    "$$T_{0t}=T_0·(1+\\frac{\\gamma(T)-1}{2}M^2)=T_{2t}$$\n",
    "\n",
    "$$P_{0t}=P_0·\\left(1+\\frac{\\gamma(T)-1}{2}M^2\\right)^{\\frac{\\gamma(T)}{\\gamma(T)-1}}= P_{2t}$$\n",
    "\n",
    "$$\\rho_{0t}=\\rho_0·\\left(1+\\frac{\\gamma(T)-1}{2}M^2\\right)^{\\frac{\\gamma(T)-1}{\\gamma(T)}} = \\rho_{2t}$$\n",
    "\n",
    "Ahora, con la densidad estática, obtenida con la ecuación de estado, se puede calcular el gasto de aire entrante al turborreactor:\n",
    "\n",
    "$$ \\rho_0=\\frac{P_0}{R_a(T_0)T_0}$$\n",
    "\n",
    "$$ G = \\rho_0 v_0 A_0 $$\n",
    "\n",
    "##### B) Compresor:\n",
    "Siempre que se conozca la relación de compresión, la presión de remanso puede obtenerse de manera directa si se tienen las condiciones de remanso en la etapa anterior:\n",
    "\n",
    "$$P_{3t}=\\Pi_{32}P_{2t}$$\n",
    "\n",
    "Para obtener la temperatura se puede recurrir al rendimiento adiabático. Téngase en cuenta que hay que estimar la temperatura media del compresor $T_{comp}=\\frac{T_{3t}-T_{2t}}{2}$ para obtener el coeficiente de dilatación adiabático, y que el rendimiento adiabático es a la vez una función del número de Mach ($M_0$) de manera que el compresor es mś eficiente conforme aumenta la velocidad de vuelo.\n",
    "\n",
    "$$ \\eta_c= \\frac{\\frac{T_{3t}}{T_{2t}}-1}{\\frac{P_{3t}}{P_{2t}}^{\\frac{\\gamma(T_{comp})-1}{\\gamma(T_{comp})}} - 1} = f(M)$$ "
   ]
  },
  {
   "cell_type": "code",
   "execution_count": 35,
   "metadata": {},
   "outputs": [
    {
     "name": "stdout",
     "output_type": "stream",
     "text": [
      "2 784.8636257981425 299.7754980079681 299.7754980079681 1.618171368286012\n",
      "2 765.9096261001832 784.8636257981425 542.3195619030553 0.024149417905161022\n"
     ]
    }
   ],
   "source": [
    "_, T0, P0, rho0, M0, h0, v0 = casos[9]\n",
    "\n",
    "#Difusor:\n",
    "T2t = Tt(T0, M0)\n",
    "P2t = Pt(P0, T0, gamma_a(T0), M0)\n",
    "G = rho0 * A0 * v0\n",
    "\n",
    "#Compresor:\n",
    "P3t = P2t*Pi32\n",
    "T3t = T3t_func(T2t, Pi32, Rend_compr(M0))\n"
   ]
  },
  {
   "cell_type": "markdown",
   "metadata": {},
   "source": [
    "##### C) Cámara de Combustión:\n",
    "La cámara de combustión opera con un rendimiento del 95%. Así pues, la temperatura fin de combustión dependerá del dosado y el poder calorífico del combustible mediante un rendimiento de 0.95 de la siguiente manera:\n",
    "\n",
    "$$ \\eta_q = \\frac{(1+f)·c_p(T_{comb})\\left(T_{4t}-T_{3t}\\right)}{fL}$$\n",
    "\n",
    "Además la cámara de combustión introduce una pequeña pérdida de presión ($\\Pi_{43}=0.95$), con lo que la presión puede obtenerse según:\n",
    "\n",
    "$$ P_{4t} = \\Pi_{43}·P_{3t} = \\Pi_{43}·\\Pi_{32}·P_{2t}$$"
   ]
  },
  {
   "cell_type": "code",
   "execution_count": 36,
   "metadata": {
    "collapsed": true
   },
   "outputs": [],
   "source": [
    "#Presión a la salida de la cámara de combustión\n",
    "P4t = Pi43*P3t"
   ]
  },
  {
   "cell_type": "markdown",
   "metadata": {},
   "source": [
    "A estas alturas no sorprenderá que el calor específico del aire se vaya calcular utilizando la temperatura promedio del combustor $T_{comb} = \\frac{T_{4t} + T_{3t}}{2}$ entre la entrada y la salida de éste. La expresión a resolver quedaría:\n",
    "\n",
    "$$T_{4t} = \\frac{fL\\eta_q}{\\left(1+f\\right)·c_p\\left(\\frac{T_{4t} + T_{3t}}{2}\\right)} + T_{3t}$$\n",
    "\n",
    "Si ahora se sustituye el polinomio de segundo orden de $c_p$ se obtiene la ecuación de tercer grado que resuelve la temperatura fin de combustión. De nuevo la manera más sencilla de acometer la solución de $T_{4t}$ sería plantear un proceso iterativo que pare cuando la temperatura esté aproximada lo suficiente. Como ya se ha planteado dos veces el proceso iterativo, se va a resolver la ecuación de tercer grado con simpy para plantear una manera nueva de abordar la solución:"
   ]
  },
  {
   "cell_type": "code",
   "execution_count": 37,
   "metadata": {},
   "outputs": [
    {
     "name": "stdout",
     "output_type": "stream",
     "text": [
      "[1427.22862102762, -1560.78139977874 - 5175.16068295623*I, -1560.78139977874 + 5175.16068295623*I]\n"
     ]
    }
   ],
   "source": [
    "#Obtención de la T4t con Simpy:\n",
    "\n",
    "#Variable T4t:\n",
    "T4t_ = symbols('T4t_')\n",
    "\n",
    "#Constantes:\n",
    "cp0 = 1004 #J/kg/K\n",
    "cp1 = 0.1153 #J/kg/K²\n",
    "cp2 = 1.564e-4 #J/kg/K³\n",
    "\n",
    "#Ecuación a resolver:\n",
    "eq1 = Eq((T4t_-T3t)*(cp0 + cp1*0.5*(T4t_+T3t-273) + cp2*((T4t_+T3t-273)/2)**2), f*L*eta_q/(1+f))\n",
    "\n",
    "#Solución de la expresión eq1:\n",
    "soluciones = solve(eq1, T4t_)\n",
    "\n",
    "#Se descartan las soluciones complejas. La solución real es la temperatura fin de combustión:\n",
    "for valor in soluciones:\n",
    "    \n",
    "    if valor.is_real is True:\n",
    "        T4t = float(valor)\n",
    "print(soluciones)\n"
   ]
  },
  {
   "cell_type": "markdown",
   "metadata": {},
   "source": [
    "El consumo de combustible puede obtenerse con el dosado y el gasto:"
   ]
  },
  {
   "cell_type": "code",
   "execution_count": 38,
   "metadata": {
    "collapsed": true
   },
   "outputs": [],
   "source": [
    "#Consumo de combustible\n",
    "c = f*G"
   ]
  },
  {
   "cell_type": "markdown",
   "metadata": {},
   "source": [
    "##### D) Turbina\n",
    "El acoplamiento mecánico entre la turbina y el compresor impone cómo varía la entalpía de remanso en la etapa 4-5 y por tanto impone la temperatura de remanso a la salida de la turbina. En los casos en que la turbina no alimenta al compresor (es decir, en los casos en que no se tiene conocimiento de la potencia total que se extrae de la turbina) imponer la temperatura requiere de una ecuación más. En este caso, sin embargo, sin más que hacer uso de la función declarada anteriormente para el acoplamiento mecánico compresor-turbina obtenemos $T_{5t}$."
   ]
  },
  {
   "cell_type": "code",
   "execution_count": 39,
   "metadata": {},
   "outputs": [],
   "source": [
    "T5t=T5t_func(f, T2t, T3t, T4t)\n",
    "Tturb = (T4t + T5t)/2"
   ]
  },
  {
   "cell_type": "markdown",
   "metadata": {},
   "source": [
    "De la turbina se tiene conocimiento, además, del rendimiento adiabático, que es función de la temperatura fin de combustión a la vez:\n",
    "\n",
    "$$ \\eta_T= \\frac{\\Pi_{54}^{\\frac{\\gamma(T_{turb})-1}{\\gamma(T_{turb})}} - 1}{\\frac{T_{5t}}{T_{4t}}-1} = f(T_{4t})$$\n",
    "\n",
    "De donde puede despejarse la relación de expansión $\\Pi_{54}$ de la turbina y obtener la presión $P_{5t}$:\n",
    "\n",
    "$$ P_{5t} = \\Pi_{54}·P_{4t} = \\left[\\eta_T\\left(T_{4t}\\right)·\\left(\\frac{T_{5t}}{T_{4t}}-1\\right)\\right]^\\frac{\\gamma(T_{turb})}{\\gamma(T_{turb})-1} ·P_{4t}$$ "
   ]
  },
  {
   "cell_type": "code",
   "execution_count": 40,
   "metadata": {},
   "outputs": [],
   "source": [
    "#Relación de expansión:\n",
    "Pi54 = (Rend_turb(T4t)*(T5t/T4t-1)+1)**(gamma_a(Tturb)/(gamma_a(Tturb)-1))\n",
    "\n",
    "#Presión de remanso a la salida de la turbina:\n",
    "P5t = Pi54*P4t"
   ]
  },
  {
   "cell_type": "markdown",
   "metadata": {},
   "source": [
    "##### E)  Tobera:\n",
    "La resolución de la tobera necesita de aplicar el rendimiento adiabático (la tobera es isentrópica en este caso), de estimar la temperatura en la salida para obtener el coeficiente de dilatación adiabático y de utilizar las expresiones que relacionan las propiedades de remanso y estáticas para obtener la velocidad de la corriente.\n",
    "\n",
    "De la tobera conocemos, además, que está adaptada, con lo que la presión estática de salida es la presión ambiente:\n",
    "\n",
    "$$P_8=P_0$$\n",
    "\n",
    "Y dado que la tobera es isentrópica, de forma análoga al difusor tenemos que las condiciones de remanso entre la entrada y la salida se conservan:\n",
    "\n",
    "$$P_{5t} = P_{8t}$$\n",
    "$$T_{5t} = T_{8t}$$\n",
    "$$h_{5t} = h_{8t}$$\n",
    "\n",
    "Por tanto, haciendo uso del rendimiento adiabático (que es además unidad por ser tobera ideal):\n",
    "\n",
    "$$\\eta_{tob}=\\frac{\\frac{T8}{T5t}-1}{\\frac{P8}{P_{5t}}^{\\frac{\\gamma(T_{tob}-1)}{\\gamma(T_{tob})}}-1}=1$$\n",
    "\n",
    "De la expresión anterior, dado que se conoce $P_8=P_0$, $P_{5t}\\equiv P_{8t}$ y $T_{5t}\\equiv T_{8t}$, se puede obtener la temperatura estática de salida $T_8$. El camino, de nuevo, puede ser iterativo o solucionando la ecuación resultante de sustituir $\\gamma_a(T_{tob})$."
   ]
  },
  {
   "cell_type": "code",
   "execution_count": 41,
   "metadata": {},
   "outputs": [],
   "source": [
    "#Obtención de T8:\n",
    "def T8_func(T5t, Pi85, eta_tob):\n",
    "    #Asumimos la temperatura media de la tobera como la T5t e iniciamos las iteraciones:\n",
    "    T8 = T5t\n",
    "    sigue_iterando = True\n",
    "    contador = 1\n",
    "    \n",
    "    #Iteraciones para resolver T4t:\n",
    "    while sigue_iterando:\n",
    "        T8_ = T8 #Se guarda la temperatura T4t anterior\n",
    "        \n",
    "        #Estimación de la temperatura media con la temperatura T8 de la iteracion anterior:\n",
    "        Ttob = 0.5*(T8+T5t)\n",
    "        \n",
    "        #Obtención de nueva T4t:\n",
    "        T8 = ((Pi85**((gamma_a(Ttob)-1)/gamma_a(Ttob)) - 1)*eta_tob + 1)*T5t\n",
    "        \n",
    "        #Cálculo de la diferencia entre la estimación anterior y la nueva:\n",
    "        residuo = abs((T8 - T8_)/T8_)\n",
    "        \n",
    "        #Evaluación de la condición de parada:\n",
    "        if residuo <=1e-6:\n",
    "            #Se cumple la tolerancia impuesta: T8 obtenida!\n",
    "            sigue_iterando = False\n",
    "        elif contador>999:\n",
    "            #Demasiadas iteraciones. T8 aproximada (comprobar el valor)\n",
    "            sigue_iterando = False\n",
    "        else:\n",
    "            sigue_iterando = True\n",
    "            contador += 1 #Actualización del indice de la iteración\n",
    "            \n",
    "#        print(contador, T5t,Pi85,T8, T8_,Ttob, residuo, gamma_a(Ttob))\n",
    "    return T8"
   ]
  },
  {
   "cell_type": "code",
   "execution_count": 42,
   "metadata": {},
   "outputs": [],
   "source": [
    "#Condición de Tobera Adaptada:\n",
    "P8 = P0\n",
    "\n",
    "#Temperatura estática a la salida de la tobera:\n",
    "T8 = T8_func(T5t, P8/P5t, 1)"
   ]
  },
  {
   "cell_type": "markdown",
   "metadata": {},
   "source": [
    "Empleando ahora la expresión que relaciona la temperatura de remanso y la estática mediante la energía del fluido debido a la velocidad de la corriente, obtenemos la velocidad a la salida del Turborreactor:"
   ]
  },
  {
   "cell_type": "code",
   "execution_count": 43,
   "metadata": {},
   "outputs": [],
   "source": [
    "#Velocidad de salida del Turborreactor:\n",
    "v8 = v_Tt(T5t,T8)\n",
    "rho8 = P8/Ra(T8)/T8"
   ]
  },
  {
   "cell_type": "markdown",
   "metadata": {},
   "source": [
    "##### F) Cálculo de Empuje, Impulso Específico y Consumo Específico\n",
    "El cálculo de las actuaciones del Turborreactor se aplica según las expresiones de Empuje, Impulso y Consumo específico descritas anteriormente. Téngase en cuenta que como la tobera está adaptada, $P_8$ y $P_0$ tienen el mismo valor y no aportan empuje pues la corriente se ha expandido al máximo (la velocidad de salida se ha maximizado ya)."
   ]
  },
  {
   "cell_type": "code",
   "execution_count": 44,
   "metadata": {},
   "outputs": [],
   "source": [
    "Eneto, Iesp, Cesp = actuaciones_TB(G, c, v8, v0, P8, P0, As)"
   ]
  },
  {
   "cell_type": "markdown",
   "metadata": {},
   "source": [
    "##### G) Rendimientos del Turborreactor:\n",
    "Los rendimientos motor, propulsor y motopropulsor del Turborreactor son:"
   ]
  },
  {
   "cell_type": "code",
   "execution_count": 45,
   "metadata": {},
   "outputs": [],
   "source": [
    "rend_motor, rend_prop, rend_mp = rendimiento_TB(Eneto, G, c, v8, v0, L)"
   ]
  },
  {
   "cell_type": "markdown",
   "metadata": {},
   "source": [
    "##### E) Resumen de Resultados para la Condición Actual:"
   ]
  },
  {
   "cell_type": "code",
   "execution_count": 46,
   "metadata": {},
   "outputs": [
    {
     "name": "stdout",
     "output_type": "stream",
     "text": [
      "Condición de vuelo: h0=3000m, v0=250m/s, M0=0.762\n",
      "T0=268.6K, P0= 70109Pa\n",
      "G=114.5kg/s, c=2.36699kg/s, f=0.020681\n",
      "T2t=299.8K, P2t=102943Pa\n",
      "T3t=765.9K, P3t=2058853Pa\n",
      "T4t=1427.2K, P4t=1955911Pa\n",
      "T5t=1048.9K, P5t=648992Pa\n",
      "T8=577.5K, P8= 70109Pa\n",
      "v8=996.7m/s, E= 87826N\n",
      "Ie=767.3m/s, Ce=0.00002695kg/s/N\n",
      "rend_motor=0.532, rend_prop=0.403\n",
      "rend_mp=0.214\n"
     ]
    }
   ],
   "source": [
    "print('Condición de vuelo: h0={0:4.0f}m, v0={1:3.0f}m/s, M0={2:4.3f}'.format(h0, v0, M0))\n",
    "print('T0={0:4.1f}K, P0={1:6.0f}Pa'.format(T0, P0))\n",
    "print('G={0:3.1f}kg/s, c={1:1.5f}kg/s, f={2:1.6f}'.format(G, c, f))\n",
    "print('T2t={0:4.1f}K, P2t={1:6.0f}Pa'.format(T2t, P2t))\n",
    "print('T3t={0:4.1f}K, P3t={1:6.0f}Pa'.format(T3t, P3t))\n",
    "print('T4t={0:4.1f}K, P4t={1:6.0f}Pa'.format(T4t, P4t))\n",
    "print('T5t={0:4.1f}K, P5t={1:6.0f}Pa'.format(T5t, P5t))\n",
    "print('T8={0:4.1f}K, P8={1:6.0f}Pa'.format(T8, P8))\n",
    "print('v8={0:4.1f}m/s, E={1:6.0f}N'.format(v8, Eneto))\n",
    "print('Ie={0:4.1f}m/s, Ce={1:1.8f}kg/s/N'.format(Iesp, Cesp))\n",
    "print('rend_motor={0:1.3f}, rend_prop={1:0.3f}'.format(rend_motor, rend_prop))\n",
    "print('rend_mp={0:1.3f}'.format(rend_mp))"
   ]
  },
  {
   "cell_type": "markdown",
   "metadata": {},
   "source": [
    "### 6) Solución del Turborreactor para todas las condiciones de vuelo viables:"
   ]
  },
  {
   "cell_type": "code",
   "execution_count": 47,
   "metadata": {},
   "outputs": [],
   "source": [
    "#Variables a almacenar:\n",
    "h0 = np.zeros(np.size(casos,0))\n",
    "M0 = np.zeros_like(h0)\n",
    "v0 = np.zeros_like(h0)\n",
    "T0 = np.zeros_like(h0)\n",
    "P0 = np.zeros_like(h0)\n",
    "\n",
    "P2t = np.zeros_like(h0)\n",
    "T2t = np.zeros_like(h0)\n",
    "\n",
    "P3t = np.zeros_like(h0)\n",
    "T3t = np.zeros_like(h0)\n",
    "\n",
    "P4t = np.zeros_like(h0)\n",
    "T4t = np.zeros_like(h0)\n",
    "\n",
    "P5t = np.zeros_like(h0)\n",
    "T5t = np.zeros_like(h0)\n",
    "\n",
    "v8 = np.zeros_like(h0)\n",
    "T8 = np.zeros_like(h0)\n",
    "\n",
    "G = np.zeros_like(h0)\n",
    "c = np.zeros_like(h0)\n",
    "\n",
    "Eneto = np.zeros_like(h0)\n",
    "Iesp = np.zeros_like(h0)\n",
    "Cesp = np.zeros_like(h0)\n",
    "\n",
    "rend_motor = np.zeros_like(h0)\n",
    "rend_prop = np.zeros_like(h0)\n",
    "rend_mp = np.zeros_like(h0)"
   ]
  },
  {
   "cell_type": "code",
   "execution_count": 48,
   "metadata": {
    "scrolled": true
   },
   "outputs": [
    {
     "name": "stdout",
     "output_type": "stream",
     "text": [
      "h0=    0m, v0=150.0m/s, Mach=0.442, T0=288.1K, P0=101325Pa,rho0=1.2277kg/m³, \n",
      "2 874.3053713030436 299.33531874321795 299.33531874321795 1.9208226245198228\n",
      "2 847.6826404218905 874.3053713030436 586.8203450231308 0.030450151348693194\n",
      "h0=    0m, v0=200.0m/s, Mach=0.589, T0=288.1K, P0=101325Pa,rho0=1.2277kg/m³, \n",
      "2 863.6639960836752 308.03501109905426 308.03501109905426 1.8037851704004788\n",
      "2 838.767947158147 863.6639960836752 585.8495035913647 0.028826081715135222\n",
      "h0=    0m, v0=250.0m/s, Mach=0.736, T0=288.1K, P0=101325Pa,rho0=1.2277kg/m³, \n",
      "2 842.2732808982495 319.22032984227224 319.22032984227224 1.6385327065930273\n",
      "2 820.1714381954412 842.2732808982495 580.7468053702609 0.026240702636604614\n",
      "h0=    0m, v0=300.0m/s, Mach=0.883, T0=288.1K, P0=101325Pa,rho0=1.2277kg/m³, \n",
      "2 832.2140685695526 332.8912749728721 332.8912749728721 1.4999575871652726\n",
      "2 812.0286150490489 832.2140685695526 582.5526717712123 0.024255121708287666\n",
      "h0=    0m, v0=320.0m/s, Mach=0.942, T0=288.1K, P0=101325Pa,rho0=1.2277kg/m³, \n",
      "2 842.3524099463323 339.0556284135789 339.0556284135789 1.4844076881650632\n",
      "2 821.824885294326 842.3524099463323 590.7040191799556 0.024369283460961556\n",
      "h0= 3000m, v0=100.0m/s, Mach=0.305, T0=268.6K, P0=70109Pa,rho0=0.9108kg/m³, \n",
      "2 801.4031972794462 273.6300796812749 273.6300796812749 1.928783261741264\n",
      "2 779.0586677203607 801.4031972794462 537.5166384803606 0.02788175744112237\n",
      "h0= 3000m, v0=150.0m/s, Mach=0.457, T0=268.6K, P0=70109Pa,rho0=0.9108kg/m³, \n",
      "2 819.0956147025347 279.8551792828685 279.8551792828685 1.9268552999500488\n",
      "2 795.7476338265931 819.0956147025347 549.4753969927016 0.02850458537056233\n",
      "h0= 3000m, v0=200.0m/s, Mach=0.609, T0=268.6K, P0=70109Pa,rho0=0.9108kg/m³, \n",
      "2 803.586329455048 288.5703187250996 288.5703187250996 1.7847158120948938\n",
      "2 782.2594452903053 803.586329455048 546.0783240900738 0.026539630383216665\n",
      "h0= 3000m, v0=250.0m/s, Mach=0.762, T0=268.6K, P0=70109Pa,rho0=0.9108kg/m³, \n",
      "2 784.8636257981425 299.7754980079681 299.7754980079681 1.618171368286012\n",
      "2 765.9096261001832 784.8636257981425 542.3195619030553 0.024149417905161022\n",
      "h0= 3000m, v0=300.0m/s, Mach=0.914, T0=268.6K, P0=70109Pa,rho0=0.9108kg/m³, \n",
      "2 780.7203833556606 313.4707171314741 313.4707171314741 1.4905687858180876\n",
      "2 763.096937559995 780.7203833556606 547.0955502435673 0.02257331327756195\n",
      "h0= 6000m, v0=100.0m/s, Mach=0.316, T0=249.1K, P0=47181Pa,rho0=0.6595kg/m³, \n",
      "2 745.8268116804061 254.1300796812749 254.1300796812749 1.9348230347852087\n",
      "2 726.489510964414 745.8268116804061 499.9784456808405 0.025927333816846386\n",
      "h0= 6000m, v0=150.0m/s, Mach=0.474, T0=249.1K, P0=47181Pa,rho0=0.6595kg/m³, \n",
      "2 763.5943632531906 260.3551792828685 260.3551792828685 1.9328948452512522\n",
      "2 743.3195438780645 763.5943632531906 511.9747712680296 0.02655181906889419\n",
      "h0= 6000m, v0=200.0m/s, Mach=0.632, T0=249.1K, P0=47181Pa,rho0=0.6595kg/m³, \n",
      "2 743.7258587671408 269.0703187250996 269.0703187250996 1.7640575976236956\n",
      "2 725.6637607856342 743.7258587671408 506.3980887461202 0.02428596204984433\n",
      "h0= 6000m, v0=250.0m/s, Mach=0.790, T0=249.1K, P0=47181Pa,rho0=0.6595kg/m³, \n",
      "2 727.673493644951 280.2754980079681 280.2754980079681 1.5962793708933614\n",
      "2 711.5978406880484 727.673493644951 503.9744958264596 0.022091849019233684\n",
      "h0= 6000m, v0=300.0m/s, Mach=0.948, T0=249.1K, P0=47181Pa,rho0=0.6595kg/m³, \n",
      "2 733.5349120952515 293.9707171314741 293.9707171314741 1.4952652402014202\n",
      "2 717.9842594133478 733.5349120952515 513.7528146133627 0.0211996081242884\n",
      "h0= 8000m, v0=100.0m/s, Mach=0.324, T0=236.1K, P0=35600Pa,rho0=0.5243kg/m³, \n",
      "2 708.6451210589603 241.1300796812749 241.1300796812749 1.9388499435476716\n",
      "2 691.197205688501 708.6451210589603 474.8876003701176 0.024621513437340994\n",
      "h0= 8000m, v0=150.0m/s, Mach=0.486, T0=236.1K, P0=35600Pa,rho0=0.5243kg/m³, \n",
      "2 726.4627698704238 247.3551792828685 247.3551792828685 1.9369216038919532\n",
      "2 708.1216945271676 726.4627698704238 486.9089745766462 0.025247096071458162\n",
      "h0= 8000m, v0=200.0m/s, Mach=0.648, T0=236.1K, P0=35600Pa,rho0=0.5243kg/m³, \n",
      "2 703.9044598414192 256.0703187250996 256.0703187250996 1.7488717292420182\n",
      "2 687.8573495996447 703.9044598414192 479.9873892832594 0.022797284514136602\n",
      "h0= 8000m, v0=250.0m/s, Mach=0.810, T0=236.1K, P0=35600Pa,rho0=0.5243kg/m³, \n",
      "2 689.6504022387953 267.2754980079681 267.2754980079681 1.5802978850617846\n",
      "2 675.3507530259152 689.6504022387953 478.4629501233817 0.02073463477503895\n",
      "h0=13000m, v0=100.0m/s, Mach=0.348, T0=203.6K, P0=16348Pa,rho0=0.2782kg/m³, \n",
      "2 615.2331165683665 208.63007968127488 208.63007968127488 1.94891857160895\n",
      "2 602.0997326067351 615.2331165683665 411.9315981248207 0.021347004262199928\n",
      "h0=13000m, v0=150.0m/s, Mach=0.522, T0=203.6K, P0=16348Pa,rho0=0.2782kg/m³, \n",
      "2 626.595487265104 214.85517928286848 214.85517928286848 1.916362032120981\n",
      "2 613.1154315172687 626.595487265104 420.7253332739862 0.021513170812435298\n",
      "h0=13000m, v0=200.0m/s, Mach=0.697, T0=203.6K, P0=16348Pa,rho0=0.2782kg/m³, \n",
      "2 604.7538993800333 223.57031872509958 223.57031872509958 1.7049829459859305\n",
      "2 593.1844280413582 604.7538993800333 414.16210905256645 0.019130875138689742\n",
      "h0=13000m, v0=250.0m/s, Mach=0.871, T0=203.6K, P0=16348Pa,rho0=0.2782kg/m³, \n",
      "2 595.0545843578266 234.77549800796808 234.77549800796808 1.5345685107976257\n",
      "2 584.7011773207738 595.0545843578266 414.9150411828973 0.017399087931111383\n"
     ]
    }
   ],
   "source": [
    "for ii, condicion_vuelo in enumerate(casos):\n",
    "    if condicion_vuelo[0] is True:\n",
    "        _, T0[ii], P0[ii], rho0, M0[ii], h0[ii], v0[ii] = condicion_vuelo\n",
    "        print('h0={5:5.0f}m, v0={6:1.1f}m/s, Mach={4:1.3f}, T0={1:3.1f}K, P0={2:5.0f}Pa,'\n",
    "              'rho0={3:1.4f}kg/m³, '.format(*condicion_vuelo))\n",
    "    \n",
    "        #Difusor:\n",
    "        T2t[ii] = Tt(T0[ii], M0[ii])\n",
    "        P2t[ii] = Pt(P0[ii], T0[ii], gamma_a(T0[ii]), M0[ii])\n",
    "        G[ii] = rho0 * A0 * v0[ii]\n",
    "\n",
    "        #Compresor:\n",
    "        P3t[ii] = P2t[ii]*Pi32\n",
    "        T3t[ii] = T3t_func(T2t[ii], Pi32, Rend_compr(M0[ii]))\n",
    "\n",
    "        #Presión a la salida de la cámara de combustión\n",
    "        P4t[ii] = Pi43*P3t[ii]\n",
    "\n",
    "        #Obtención de la T4t con Simpy:\n",
    "        #Variable T4t:\n",
    "        T4t_ = symbols('T4t_')\n",
    "\n",
    "        #Constantes:\n",
    "        cp0 = 1004 #J/kg/K\n",
    "        cp1 = 0.1153 #J/kg/K²\n",
    "        cp2 = 1.564e-4 #J/kg/K³\n",
    "\n",
    "        #Ecuación a resolver:\n",
    "        eq1 = Eq((T4t_-T3t[ii])*(cp0 + cp1*0.5*(T4t_+T3t[ii]-273) + cp2*((T4t_+T3t[ii]-273)/2)**2),\n",
    "                 f*L*eta_q/(1+f))\n",
    "\n",
    "        #Solución de la expresión eq1:\n",
    "        soluciones = solve(eq1, T4t_)\n",
    "\n",
    "        #Se descartan las soluciones complejas. La solución real es la temperatura fin de combustión:\n",
    "        for valor in soluciones:\n",
    "            if valor.is_real is True:\n",
    "                T4t[ii] = float(valor)\n",
    "\n",
    "        #Consumo de combustible\n",
    "        c[ii] = f*G[ii]\n",
    "\n",
    "        T5t[ii]=T5t_func(f, T2t[ii], T3t[ii], T4t[ii])\n",
    "        Tturb = (T4t[ii] + T5t[ii])/2\n",
    "\n",
    "        #Relación de expansión:\n",
    "        Pi54 = (Rend_turb(T4t[ii])*(T5t[ii]/T4t[ii]-1)+1)**(gamma_a(Tturb)/(gamma_a(Tturb)-1))\n",
    "\n",
    "        #Presión de remanso a la salida de la turbina:\n",
    "        P5t[ii] = Pi54*P4t[ii]\n",
    "\n",
    "        #Condición de Tobera Adaptada:\n",
    "        P8 = P0[ii]\n",
    "\n",
    "        #Temperatura estática a la salida de la tobera:\n",
    "        T8[ii] = T8_func(T5t[ii], P8/P5t[ii], 1)\n",
    "\n",
    "        #Velocidad de salida del Turborreactor:\n",
    "        v8[ii] = v_Tt(T5t[ii],T8[ii])\n",
    "\n",
    "        #Actuaciones y Rendimientos del Turborreactor:\n",
    "        Eneto[ii], Iesp[ii], Cesp[ii] = actuaciones_TB(G[ii], c[ii], v8[ii], v0[ii], P8, P0[ii], As)\n",
    "        rend_motor[ii], rend_prop[ii], rend_mp[ii] = rendimiento_TB(Eneto[ii], G[ii], c[ii], v8[ii],\n",
    "                                                                    v0[ii], L)\n",
    "        \n",
    "    else:\n",
    "        P2t[ii] = np.NaN\n",
    "        T2t[ii] = np.NaN\n",
    "        P3t[ii] = np.NaN\n",
    "        T3t[ii] = np.NaN\n",
    "        P4t[ii] = np.NaN\n",
    "        T4t[ii] = np.NaN\n",
    "        P5t[ii] = np.NaN\n",
    "        T5t[ii] = np.NaN\n",
    "        T8[ii] = np.NaN\n",
    "        v8[ii] = np.NaN\n",
    "        G[ii] = np.NaN\n",
    "        c[ii] = np.NaN\n",
    "        Eneto[ii] = np.NaN\n",
    "        Iesp[ii] = np.NaN\n",
    "        Cesp[ii] = np.NaN\n",
    "        rend_motor[ii] = np.NaN\n",
    "        rend_prop[ii] = np.NaN\n",
    "        rend_mp[ii] = np.NaN\n",
    "        \n",
    "        \n",
    "    "
   ]
  },
  {
   "cell_type": "code",
   "execution_count": 49,
   "metadata": {},
   "outputs": [
    {
     "data": {
      "image/png": "[encoded data removed]",
      "text/plain": [
       "<matplotlib.figure.Figure at 0x111629ba8>"
      ]
     },
     "metadata": {},
     "output_type": "display_data"
    }
   ],
   "source": [
    "figura2 = plt.figure()\n",
    "plt.title('Rendimientos')\n",
    "ax2 = figura2.add_subplot(321)\n",
    "plt.ylabel('rend_motor', fontsize=10)\n",
    "plt.xlabel('h0', fontsize=10)\n",
    "ax2.scatter(h0,rend_motor)\n",
    "\n",
    "ax2 = figura2.add_subplot(322)\n",
    "plt.ylabel('rend_motor', fontsize=10)\n",
    "plt.xlabel('v0', fontsize=10)\n",
    "ax2.scatter(v0,rend_motor)\n",
    "\n",
    "ax2 = figura2.add_subplot(323)\n",
    "ax2.scatter(h0,rend_prop)\n",
    "plt.ylabel('rend_prop', fontsize=10)\n",
    "plt.xlabel('v0', fontsize=10)\n",
    "\n",
    "ax2 = figura2.add_subplot(324)\n",
    "ax2.scatter(v0,rend_prop)\n",
    "plt.ylabel('rend_prop', fontsize=10)\n",
    "plt.xlabel('v0', fontsize=10)\n",
    "\n",
    "ax2 = figura2.add_subplot(325)\n",
    "ax2.scatter(h0,rend_mp)\n",
    "plt.ylabel('rend_mp', fontsize=10)\n",
    "plt.xlabel('h0', fontsize=10)\n",
    "\n",
    "ax2 = figura2.add_subplot(326)\n",
    "plt.ylabel('rend_mp', fontsize=10)\n",
    "plt.xlabel('v0', fontsize=10)\n",
    "ax2.scatter(v0,rend_mp)\n",
    "plt.show()\n",
    "\n"
   ]
  },
  {
   "cell_type": "code",
   "execution_count": 50,
   "metadata": {},
   "outputs": [
    {
     "data": {
      "image/png": "[encoded data removed]",
      "text/plain": [
       "<matplotlib.figure.Figure at 0x1116f7588>"
      ]
     },
     "metadata": {},
     "output_type": "display_data"
    },
    {
     "data": {
      "image/png": "[encoded data removed]",
      "text/plain": [
       "<matplotlib.figure.Figure at 0x111a18a90>"
      ]
     },
     "metadata": {},
     "output_type": "display_data"
    }
   ],
   "source": [
    "figura = plt.figure()\n",
    "ax = figura.add_subplot(111, projection='3d')\n",
    "ax.scatter(h0,v0,T4t,)\n",
    "ax.set_xlabel('Altitud')\n",
    "ax.set_ylabel('Velocidad')\n",
    "ax.set_zlabel('._.')\n",
    "\n",
    "figura2 = plt.figure()\n",
    "plt.ylabel('T3t', fontsize=16)\n",
    "plt.xlabel('h0', fontsize=16)\n",
    "ax2 = figura2.add_subplot(121)\n",
    "ax2.scatter(h0,T3t)\n",
    "ax2 = figura2.add_subplot(122)\n",
    "plt.ylabel('T3t', fontsize=16)\n",
    "plt.xlabel('v0', fontsize=16)\n",
    "ax2.scatter(v0,T3t)\n",
    "plt.show()"
   ]
  },
  {
   "cell_type": "code",
   "execution_count": 51,
   "metadata": {
    "collapsed": true
   },
   "outputs": [
    {
     "data": {
      "image/png": "[encoded data removed]",
      "text/plain": [
       "<matplotlib.figure.Figure at 0x111786400>"
      ]
     },
     "metadata": {},
     "output_type": "display_data"
    }
   ],
   "source": [
    "figura3 = plt.figure()\n",
    "plt.scatter(Eneto, Cesp)\n",
    "plt.ylabel('c')\n",
    "plt.xlabel('E')\n",
    "plt.title('-')\n",
    "plt.show()"
   ]
  },
  {
   "cell_type": "code",
   "execution_count": null,
   "metadata": {},
   "outputs": [],
   "source": []
  },
  {
   "cell_type": "code",
   "execution_count": null,
   "metadata": {},
   "outputs": [],
   "source": []
  }
 ],
 "metadata": {
  "anaconda-cloud": {},
  "kernelspec": {
   "display_name": "Python 3",
   "language": "python",
   "name": "python3"
  },
  "language_info": {
   "codemirror_mode": {
    "name": "ipython",
    "version": 3
   },
   "file_extension": ".py",
   "mimetype": "text/x-python",
   "name": "python",
   "nbconvert_exporter": "python",
   "pygments_lexer": "ipython3",
   "version": "3.6.4"
  }
 },
 "nbformat": 4,
 "nbformat_minor": 2
}
