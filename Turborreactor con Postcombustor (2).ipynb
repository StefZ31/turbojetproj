{
 "cells": [
  {
   "cell_type": "markdown",
   "metadata": {},
   "source": [
    "# Turborreactor con Postcombustor:\n",
    "Se tiene un caza equipado con dos turborreactores como el de la figura, compuesto cada uno de ellos por un generador de gas, una turbina y compresor de baja, un difusor, un postcombustor tras la turbina de baja y una tobera final. La cámara de combustión y el postcombustor funcionan con JET-A1 ($L=42\\frac{MJ}{kg}$). Del compresor de baja se sangra parte de la corriente para alimentar sistemas del caza (actuadores y antihielos), causando una disminución del 15% en $G_{25}$ respecto a $G_2$.\n",
    "\n",
    "![Esquema](./Recursos/esquema_.png)\n",
    "\n",
    "El caza se somete a una condición de vuelo de **320KIAS** a **21000ft** de altura en régimen estacionario y se mantiene el nivel de vuelo, sin postcombustor. A continuación, el piloto activa el postcombustor de los turborreactores durante 3 minutos, en los que alcanza un régimen estacionario de **450KIAS** a la vez que eleva la altitud en 12000ft.\n",
    "\n",
    "Dada la información de la turbomáquina de la siguiente tabla\n",
    "\n",
    "|      Difusor (2)     | Compresor Baja (25) | Compresor Alta (3)| Cámara de Combustión (4)|  Turbina Alta (45)|  Turbina Baja  (5)|   Jet Pipe  (6) | Post Combustor (7)|     Tobera   (9)  |\n",
    "|:-------------:|:--------------:|:--------------:|:--------------------:|:-------------:|:--------------:|:------------:|:--------------:|:--------------:|\n",
    "|$\\eta_{D}=0.92$| $\\eta_{C2}=0.8$|$\\eta_{C1}=0.88$|$\\eta_q=0.9 $         |$\\eta_{T1}=0.9$|$\\eta_{T2}=0.75$|              |$\\eta_{q2}=0.9$   |$\\eta_{TO}=0.95$|\n",
    "|$\\phi_1=0.75m$              |$\\Pi_{C2}=3$    | $\\Pi_{C1}=5 $  |$\\Pi_{CC}=0.95$       |               |                |$\\Pi_{65}=0.9 $|$\\Pi_{76}=0.9$ |                |             \n",
    "|               |       $G_{2}=G_{25}+G_{sang}$         |                |$L=42\\frac{MJ}{kg}$; $f=0.02$  |               |                |              |$L=42\\frac{MJ}{kg}$;$f=0.035$|                |                |\n",
    "\n",
    "Asumiendo que la tobera está adaptada a la altitud de **21000ft**, se pide:\n",
    "1. Resolver el empuje, T4t y p3t del turborreactor cuando se mantiene en régimen estacionario a 320KIAS\n",
    "2. Resolver el empuje, T4t, p3t, p7t y T7t y cuando se enciende el postcombustor y se adquiere la velocidad de 450KIAS\n",
    "3. Obtener el rendimiento motopropulsor en ambas condiciones de vuelo\n",
    "4. Comparar el turborreactor calculado con el EJ200\n",
    "\n",
    "---\n",
    "\n",
    "## Datos e hipótesis:\n",
    "* Se asumirá gas perfecto y ecuación de estado en cada etapa. El calor específico a presión constante se puede caracterizar para las tomas (difusor y tobera), compresión, expansión y cámaras de combustión según:\n",
    "\n",
    "|           Tomas (Difusor y Tobera)          |         Compresión (Alta y baja)       |         Cámaras de Combustión        |         Expansión (Alta y Baja)         |\n",
    "|:-------------------------:|:-------------------------:|:-------------------------:|:-------------------------:|\n",
    "| $c_p=1000 \\frac{J}{kg K}$ | $c_p=1050 \\frac{J}{kg K}$ | $c_p=1170 \\frac{J}{kg K}$ | $c_p=1090 \\frac{J}{kg K}$ |\n",
    "\n",
    "* Además de esto el aire tiene coeficiente de dilatación adiabática constantes y conocidos:\n",
    " * $\\gamma_a=1.4$\n",
    " * $R_a=287\\frac{J}{kg K}$.\n",
    "\n",
    "* La combustión no se considerará diluida\n",
    "\n",
    "* La corriente sangrada se puede considerar a la misma temperatura y presión de remanso que la corriente principal\n",
    "\n",
    "### Datos del EJ200: \n",
    "Régimen máximo sin postcombustor y con postcombustor:\n",
    "![EJ200](./Recursos/datosej200.png)\n",
    "\n",
    "---\n",
    "\n",
    "## Solución:"
   ]
  },
  {
   "cell_type": "markdown",
   "metadata": {},
   "source": [
    "Para obtener la condición de vuelo inicial se hará uso de las funciones de presión y temperatura según Atmósfera Estándar Internacional contenidas en `ISA.py`. Se asumirá que $\\Delta T_{ISA} = 0$.\n",
    "\n",
    "Asimismo, para las relaciones de gas isoentrópico, número de Mach, etc. se usarán las funciones contenidas en `isentropic_gas.py`. Se hará uso de modelo de gas ideal."
   ]
  },
  {
   "cell_type": "code",
   "execution_count": 1,
   "metadata": {},
   "outputs": [],
   "source": [
    "import numpy as np # librería numérica\n",
    "from matplotlib import pyplot as plt # librería para gráficas\n",
    "\n",
    "import isa as int_std_atm #atmósfera estándar internacional\n",
    "from isentropic_gas import IsentropicGas #relaciones gas isoentrópico\n",
    "ideal_isent_gas = IsentropicGas(selected_cp_air_model='ideal', selected_gamma_air_model='ideal') "
   ]
  },
  {
   "cell_type": "markdown",
   "metadata": {},
   "source": [
    "### 1) Datos:\n",
    "##### Aire:"
   ]
  },
  {
   "cell_type": "code",
   "execution_count": 2,
   "metadata": {},
   "outputs": [],
   "source": [
    "# Constantes:\n",
    "gamma_a = 1.4 #Adim.\n",
    "Ra = 287 # J/kg/K\n",
    "\n",
    "# Calores Específicos:\n",
    "cp_d  = 1000 # J/kg/K\n",
    "cp_to = 1000 # J/kg/K\n",
    "cp_c1 = 1050 # J/kg/K\n",
    "cp_c2 = 1050 # J/kg/K\n",
    "cp_cc = 1170 # J/kg/K\n",
    "cp_t1 = 1090 # J/kg/K\n",
    "cp_t2 = 1090 # J/kg/K"
   ]
  },
  {
   "cell_type": "code",
   "execution_count": 3,
   "metadata": {
    "scrolled": true
   },
   "outputs": [
    {
     "name": "stdout",
     "output_type": "stream",
     "text": [
      "Presión ambiente:  44740Pa, Temperatura ambiente: 246.5K\n",
      "Altitud: 6400.8m, Velocidad de vuelo: 164.6m/s\n"
     ]
    }
   ],
   "source": [
    "# Datos iniciales:\n",
    "h0 = 21000*0.3048 # m\n",
    "\n",
    "p0 = int_std_atm.pres_isa(h=h0)\n",
    "T0 = int_std_atm.temp_isa(h=h0, isa_dev=0)\n",
    "v0 = 320*1852/3600;\n",
    "print('Presión ambiente: {0:6.0f}Pa, Temperatura ambiente: {1:3.1f}K'.format(p0, T0))\n",
    "print('Altitud: {0:5.1f}m, Velocidad de vuelo: {1:3.1f}m/s'.format(h0, v0))"
   ]
  },
  {
   "cell_type": "markdown",
   "metadata": {},
   "source": [
    "##### Difusor, Tobera y Jet-Pipe:"
   ]
  },
  {
   "cell_type": "code",
   "execution_count": 4,
   "metadata": {},
   "outputs": [],
   "source": [
    "# Rendimientos adiabáticos\n",
    "eta_d = 0.92\n",
    "eta_to = 0.95\n",
    "\n",
    "# Condición de tobera adaptada:\n",
    "p9 = p0\n",
    "\n",
    "# Caída de presión en Jet-pipe:\n",
    "pi_jp = 0.9\n",
    "\n",
    "# Área de entrada al turborreactor:\n",
    "A1 = np.pi*0.75**2/4 #m**2"
   ]
  },
  {
   "cell_type": "markdown",
   "metadata": {},
   "source": [
    "##### Compresores de Alta y Baja:"
   ]
  },
  {
   "cell_type": "code",
   "execution_count": 5,
   "metadata": {},
   "outputs": [],
   "source": [
    "# Rendimientos adiabáticos\n",
    "eta_c2 = 0.80 # Compresor de baja\n",
    "eta_c1 = 0.88 # Compresor de alta \n",
    "\n",
    "# Relación de compresión:\n",
    "pi_c2   = 3    # Compresor de baja\n",
    "pi_c1   = 5    # Compresor de baja\n",
    "\n",
    "# Compresor 1 acoplada mecánicamente a T1 (N1)\n",
    "# Compresor 2 acoplada mecánicamente a T2 (N2)"
   ]
  },
  {
   "cell_type": "markdown",
   "metadata": {},
   "source": [
    "##### Cámara de Combustión y Postcombustor"
   ]
  },
  {
   "cell_type": "code",
   "execution_count": 6,
   "metadata": {},
   "outputs": [],
   "source": [
    "# Rendimiento Adiabático:\n",
    "eta_q = 0.90  # Cámara de combustión\n",
    "eta_pc = 0.90 # Postcombustor\n",
    "\n",
    "# Caída de presión\n",
    "pi_cc = 0.95  # Cámara de combustión\n",
    "pi_pc = 0.90  # Postcombustor\n",
    "\n",
    "# Poder calorífico JET-A1\n",
    "L = 42*1e6 #J/kg\n",
    "\n",
    "# Dosado de la mezcla:\n",
    "f_cc = 0.02   # Cámara de combustión\n",
    "f_pc = 0.035  # Postcombustor"
   ]
  },
  {
   "cell_type": "markdown",
   "metadata": {},
   "source": [
    "##### Turbinas de Alta y Baja:"
   ]
  },
  {
   "cell_type": "code",
   "execution_count": 7,
   "metadata": {},
   "outputs": [],
   "source": [
    "# Rendimientos adiabáticos\n",
    "eta_t2 = 0.90 # Turbina de baja\n",
    "eta_t1 = 0.75 # Turbina de alta\n",
    "\n",
    "# Turbina 1 acoplada mecánicamente a C1 (N1)\n",
    "# Turbina 2 acoplada mecánicamente a C2 (N2)"
   ]
  },
  {
   "cell_type": "markdown",
   "metadata": {},
   "source": [
    "### 2) Rendimientos Adiabáticos:\n",
    "\n",
    "De las expresiones de los rendimientos adiabáticos de difusor, compresor, turbina y tobera, se despeja en cada caso la variable deseada (T3t en compresores, p5t en Turbinas, T9 en tobera).\n",
    "\n",
    "$$ \\eta_d=\\frac{{\\left(\\frac{p_{2t}}{p_{1}}\\right)^{\\frac{\\gamma-1}{\\gamma}}-1}}{\\frac{T_{2t}}{T_{1}}-1}$$\n",
    "\n",
    "$$ \\eta_c=\\frac{{\\Pi_{32}}^{\\frac{\\gamma-1}{\\gamma}}-1}{\\frac{T_{3t}}{T_{2t}}-1}$$\n",
    "\n",
    "$$ \\eta_t=\\frac{\\frac{T_{5t}}{T_{4t}}-1}{\\left(\\frac{p_{5t}}{p_{4t}}\\right)^{\\frac{\\gamma-1}{\\gamma}}-1}$$\n",
    "\n",
    "$$ \\eta_{to}=\\frac{\\frac{T_{9}}{T_{7t}}-1}{\\left(\\frac{p_{9}}{p_{7t}}\\right)^{\\frac{\\gamma-1}{\\gamma}}-1}$$"
   ]
  },
  {
   "cell_type": "code",
   "execution_count": 8,
   "metadata": {},
   "outputs": [],
   "source": [
    "## Presión fin de compresión dinámica:\n",
    "def relPres_rend_dif(rend_d, rel_temp, gamma_a=1.4):\n",
    "    aux1 = (rel_temp - 1) * rend_d + 1\n",
    "    p2t_p1t = aux1 **(gamma_a/(gamma_a-1))\n",
    "    return p2t_p1t\n",
    "\n",
    "## Temperatura fin de compresión:\n",
    "def relTemp_rend_comp(rend_c, rel_comp , gamma_a=1.4):\n",
    "    aux1 = rel_comp**((gamma_a-1)/gamma_a) - 1\n",
    "    T3t_T2t = 1 + (1/rend_c) * (aux1)\n",
    "    return T3t_T2t\n",
    "\n",
    "## Presión fin de expansión:\n",
    "def relPres_rend_turb(rend_t, rel_temp , gamma_a=1.4):\n",
    "    aux1 = (rel_temp - 1)/rend_t + 1\n",
    "    p5t_p4t = aux1**(gamma_a/(gamma_a-1))\n",
    "    return p5t_p4t\n",
    "\n",
    "## Temperatura estática en salida del turborreactor:\n",
    "def relTemp_rend_tob(rend_to, rel_comp, gamma_a=1.4):\n",
    "    aux1 = rel_comp ** ((gamma_a-1)/gamma_a) - 1\n",
    "    T9_T7t = rend_to * aux1 + 1\n",
    "    return T9_T7t"
   ]
  },
  {
   "cell_type": "markdown",
   "metadata": {},
   "source": [
    "### 3) Cálculo de Actuaciones:\n",
    "\n",
    "$$E=G_9v_9 - G_1v_1 + A_9\\left(p_9-p_0\\right)\\approx G_9v_9 - G_1v_1$$\n",
    "\n",
    "$$I_{sp}=\\frac{E}{G_9} = v_9 - \\frac{G_1}{G_9}v_1$$\n",
    "\n",
    "$$\\eta_m=\\frac{W_m}{W_c}=\\frac{\\left(G_0+c\\right)v_9^2 - G_0v_0}{2cL} $$\n",
    "\n",
    "$$\\eta_p=\\frac{W_u}{W_m}=\\frac{2v_0\\left[\\left(G_0+c\\right)v_9-G_0v_0\\right]}{\\left(G_0+c\\right)v_9^2 - G_0v_0}$$\n",
    "\n",
    "$$\\eta_mp=\\frac{W_u}{W_c}=\\frac{v_0\\left[\\left(G_0+c\\right)v_9-G_0v_0\\right]}{cL}$$\n",
    "\n",
    "$$c_E=\\frac{E}{c}\\approx \\frac{G_9v_9 - G_1v_1}{c}\\approx \\left(\\frac{1+f}{f}\\right)v_9- \\frac{1}{f}v_1$$"
   ]
  },
  {
   "cell_type": "code",
   "execution_count": 9,
   "metadata": {},
   "outputs": [],
   "source": [
    "## Empuje:\n",
    "def empuje(Gs, vs, G0, v0, A9=0, ps=0, p9=0):\n",
    "    return Gs*vs - G0*v0 + A9*(p9-ps)\n",
    "\n",
    "## Impulso:\n",
    "def impulso(E, G):\n",
    "    return E/G\n",
    "\n",
    "## Consumo Específico:\n",
    "def consumo_especifico(c,E):\n",
    "    return c/E\n",
    "\n",
    "## Rendimiento Motor:\n",
    "def rend_motor(G9, G0, v9, v0, c, L):\n",
    "    return (G9*v9**2 - G0*v0**2)/(2*c*L)\n",
    "\n",
    "## Rendimiento Propulsor:\n",
    "def rend_propulsor(G9, G0, v9, v0):\n",
    "    return 2*v0*(G0*v9-G0*v0)/(G9*v9**2 - G0*v0**2)\n",
    "\n",
    "## Rendimiento Motopropulsor:\n",
    "def rend_motopropulsor(G9, G0, v9, v0, c, L):\n",
    "    rendimiento = rend_motor(G9, G0, v9, v0, c, L) * rend_propulsor(G9, G0, v9, v0)\n",
    "    return rendimiento\n",
    "\n",
    "## Rendimientos agrupados:\n",
    "def rendimientos(G9, G0, v9, v0, c, L):\n",
    "    eta_m = rend_motor(G9, G0, v9, v0, c, L)\n",
    "    eta_p = rend_propulsor(G9, G0, v9, v0)\n",
    "    eta_mp = rend_motopropulsor(G9, G0, v9, v0, c, L)\n",
    "    return eta_m, eta_p, eta_mp"
   ]
  },
  {
   "cell_type": "markdown",
   "metadata": {},
   "source": [
    "### 4) Resolución sin Postcombustor encendido:"
   ]
  },
  {
   "cell_type": "markdown",
   "metadata": {},
   "source": [
    "#### Solución del Difusor:"
   ]
  },
  {
   "cell_type": "code",
   "execution_count": 10,
   "metadata": {},
   "outputs": [],
   "source": [
    "# Corriente libre (aguas arriba del avión):\n",
    "M0 = ideal_isent_gas.mach_number(static_temperature=T0, velocity=v0)\n",
    "T0t = ideal_isent_gas.stagnation_temperature_from_mach(mach=M0, static_temperature=T0)\n",
    "p0t = ideal_isent_gas.stagnation_pressure_from_mach(mach=M0, static_pressure=p0, static_temperature=T0)\n",
    "\n",
    "# Solución de la Toma (entrada limpia):\n",
    "p1t = p0t; T1t=T0t\n",
    "p1 = p0; T1 = T0\n",
    "\n",
    "v1 = v0\n",
    "rho1 = p1/Ra/T1\n",
    "G1 = rho1*A1*v1\n",
    "\n",
    "# Salida del difusor:\n",
    "G2 = G1\n",
    "T2t = T1t # Difusor isoentálpico\n",
    "p2t = p1t*relPres_rend_dif(rend_d=eta_d, rel_temp=T2t/T1, gamma_a=gamma_a)\n",
    "pi21 = p2t/p1t\n",
    "\n",
    "# Balance de Energía:\n",
    "H0t = G1 * cp_d * T0t\n",
    "H1t = G1 * cp_d * T1t\n",
    "H2t = G2 * cp_d * T2t"
   ]
  },
  {
   "cell_type": "markdown",
   "metadata": {},
   "source": [
    "#### Solución del Compresor de Baja:"
   ]
  },
  {
   "cell_type": "code",
   "execution_count": 11,
   "metadata": {},
   "outputs": [],
   "source": [
    "# Salida del compresor de Baja:\n",
    "Gsang = G2*0.15\n",
    "G25 = G2 - Gsang\n",
    "p25t = p2t * pi_c2\n",
    "T25t = T2t*relTemp_rend_comp(rend_c=eta_c2, rel_comp=pi_c2, gamma_a=gamma_a)\n",
    "\n",
    "# Balance de Energía:\n",
    "H25t = G25 * cp_c2 * T25t\n",
    "\n",
    "# Primer Principio:\n",
    "W_c2 = H25t - H2t"
   ]
  },
  {
   "cell_type": "markdown",
   "metadata": {},
   "source": [
    "#### Solución del Compresor de Alta:"
   ]
  },
  {
   "cell_type": "code",
   "execution_count": 12,
   "metadata": {},
   "outputs": [],
   "source": [
    "# Salida del compresor de Alta:\n",
    "G3 = G25\n",
    "p3t = p25t * pi_c1\n",
    "T3t = T25t * relTemp_rend_comp(rend_c=eta_c1, rel_comp=pi_c1, gamma_a=gamma_a)\n",
    "\n",
    "# Balance de Energía:\n",
    "H3t = G3 * cp_c2 * T3t\n",
    "\n",
    "# Primer Principio:\n",
    "W_c1 = H3t - H25t"
   ]
  },
  {
   "cell_type": "markdown",
   "metadata": {},
   "source": [
    "#### Solución de Cámara de Combustión:"
   ]
  },
  {
   "cell_type": "code",
   "execution_count": 13,
   "metadata": {},
   "outputs": [],
   "source": [
    "# Gasto de combustible y de Aire:\n",
    "c = f_cc * G3\n",
    "G4 = G3 + c\n",
    "\n",
    "# Potencia Calorífica de la combustión:\n",
    "Q43 = eta_q * L * c\n",
    "\n",
    "# Primer Principio a Cámara de Combustión:\n",
    "T4t = (Q43 + H3t) / G4 / cp_cc\n",
    "\n",
    "# Balance de Energía:\n",
    "H4t = G4 * cp_cc * T4t\n",
    "\n",
    "# Caída de presión:\n",
    "p4t = p3t * pi_cc"
   ]
  },
  {
   "cell_type": "markdown",
   "metadata": {},
   "source": [
    "#### Solución de Turbina de Alta:"
   ]
  },
  {
   "cell_type": "code",
   "execution_count": 14,
   "metadata": {},
   "outputs": [],
   "source": [
    "# Gasto de la turbina de alta:\n",
    "G45 = G4\n",
    "\n",
    "# Primer Principio a la Turbina:\n",
    "T45t = (H4t - W_c1)/G45/cp_t1\n",
    "H45t = G45 * cp_t1 * T45t\n",
    "W_t1 = H45t - H4t\n",
    "\n",
    "# Caída de presión de la turbina de alta:\n",
    "p45t = p4t * relPres_rend_turb(rend_t=eta_t1, rel_temp=T45t/T4t, gamma_a=gamma_a)"
   ]
  },
  {
   "cell_type": "markdown",
   "metadata": {},
   "source": [
    "#### Solución de Turbina de Baja:"
   ]
  },
  {
   "cell_type": "code",
   "execution_count": 15,
   "metadata": {},
   "outputs": [],
   "source": [
    "# Gasto de turbina de baja:\n",
    "G5 = G45\n",
    "\n",
    "# Primer Principio a la Turbina:\n",
    "T5t = (H45t - W_c2)/G5/cp_t2\n",
    "H5t = G5 * cp_t2 * T5t\n",
    "W_t2 = H5t - H45t\n",
    "\n",
    "# Caída de presión de la turbina de baja:\n",
    "p5t = p45t * relPres_rend_turb(rend_t=eta_t2, rel_temp=T5t/T45t, gamma_a=gamma_a)"
   ]
  },
  {
   "cell_type": "markdown",
   "metadata": {},
   "source": [
    "#### Solución del postcombustor (apagado):"
   ]
  },
  {
   "cell_type": "code",
   "execution_count": 16,
   "metadata": {},
   "outputs": [],
   "source": [
    "# Gasto entre 5 y 7:\n",
    "G6 = G5; G7 = G6\n",
    "\n",
    "# Relación de presiones:\n",
    "p6t = p5t * pi_jp\n",
    "p7t = p6t * pi_pc\n",
    "\n",
    "# Se asume, según el Primer Principio, que Jet-Pipe y Postcombustor son isoentálpicos (si pc está apagado)\n",
    "T6t = H5t/G6/cp_t2\n",
    "H6t = G6*cp_t2*T6t\n",
    "\n",
    "T7t = H6t/G7/cp_t2\n",
    "H7t = G7*cp_t2*T7t"
   ]
  },
  {
   "cell_type": "markdown",
   "metadata": {},
   "source": [
    "#### Solución de la Tobera Adaptada:"
   ]
  },
  {
   "cell_type": "code",
   "execution_count": 17,
   "metadata": {},
   "outputs": [],
   "source": [
    "# Gasto en la tobera:\n",
    "G9 = G7\n",
    "\n",
    "# Tobera adaptada:\n",
    "p9 = p0\n",
    "\n",
    "# Obtención de las temperaturas en la salida:\n",
    "# Del Primer Principio: Tobera isoentálpica:\n",
    "T9t = H7t/G9/cp_to\n",
    "H9t = G9*cp_to*T9t\n",
    "T9 = T7t*relTemp_rend_tob(rend_to=eta_to, rel_comp=p9/p7t, gamma_a=gamma_a)\n",
    "\n",
    "# Presión de remanso en salida:\n",
    "p9t = p9 * (T9t/T9)**(gamma_a/(gamma_a-1))\n",
    "\n",
    "# Cálculo de velocidad en salida:\n",
    "v9 = ideal_isent_gas.velocity_from_stagnation_temperature(stagnation_temperature=T9t, static_temperature=T9)\n"
   ]
  },
  {
   "cell_type": "markdown",
   "metadata": {},
   "source": [
    "#### Resultados de cada Estapa:"
   ]
  },
  {
   "cell_type": "code",
   "execution_count": 18,
   "metadata": {},
   "outputs": [
    {
     "name": "stdout",
     "output_type": "stream",
     "text": [
      "Mach de vuelo: M0=0.522; Altitud de vuelo: h0= 6401m\n",
      "Estación  0:  G0=46.0kg/s;  p0t=  53881Pa;  T0t= 260.0K;  H0t=11.958MJ\n",
      "Estación  1:  G1=46.0kg/s;  p1t=  53881Pa;  T1t= 260.0K;  H1t=11.958MJ\n",
      "Estación  2:  G2=46.0kg/s;  p2t=  63992Pa;  T2t= 260.0K;  H2t=11.958MJ\n",
      "Estación 25: G25=39.1kg/s; p25t= 191976Pa; T25t= 379.9K; H25t=15.592MJ\n",
      "Estación  3:  G3=39.1kg/s;  p3t= 959881Pa;  T3t= 631.9K;  H3t=25.936MJ\n",
      "Estación  4:  G4=39.9kg/s;  p4t= 911887Pa;  T4t=1189.5K;  H4t=55.486MJ\n",
      "Estación 45: G45=39.9kg/s; p45t= 477122Pa; T45t=1038.8K; H45t=45.142MJ\n",
      "Estación  5:  G5=39.9kg/s;  p5t= 343724Pa;  T5t= 955.1K;  H5t=41.508MJ\n",
      "Estación  6:  G6=39.9kg/s;  p6t= 309352Pa;  T6t= 955.1K;  H6t=41.508MJ\n",
      "Estación  7:  G7=39.9kg/s;  p7t= 278417Pa;  T7t= 955.1K;  H7t=41.508MJ\n",
      "Estación  9:  G9=39.9kg/s;  p9t= 334522Pa;  T9t=1041.1K;  H9t=41.508MJ\n",
      "Estación  9:  p9= 44740Pa;   T9=585.9K;      v9=956.0m/s\n"
     ]
    }
   ],
   "source": [
    "print('Mach de vuelo: M0={0:0.3f}; Altitud de vuelo: h0={1:5.0f}m'.format(M0, h0))\n",
    "print('Estación  0:  G0={0:3.1f}kg/s;  p0t={1:7.0f}Pa;  T0t={2:6.1f}K;  H0t={3:6.3f}MJ'.format(G1, p0t, T0t, H0t/1e6))\n",
    "print('Estación  1:  G1={0:3.1f}kg/s;  p1t={1:7.0f}Pa;  T1t={2:6.1f}K;  H1t={3:6.3f}MJ'.format(G1, p1t, T1t, H1t/1e6))\n",
    "print('Estación  2:  G2={0:3.1f}kg/s;  p2t={1:7.0f}Pa;  T2t={2:6.1f}K;  H2t={3:6.3f}MJ'.format(G2, p2t, T2t, H2t/1e6))\n",
    "print('Estación 25: G25={0:3.1f}kg/s; p25t={1:7.0f}Pa; T25t={2:6.1f}K; H25t={3:6.3f}MJ'.format(G25, p25t, T25t, H25t/1e6))\n",
    "print('Estación  3:  G3={0:3.1f}kg/s;  p3t={1:7.0f}Pa;  T3t={2:6.1f}K;  H3t={3:6.3f}MJ'.format(G3, p3t, T3t, H3t/1e6))\n",
    "print('Estación  4:  G4={0:3.1f}kg/s;  p4t={1:7.0f}Pa;  T4t={2:6.1f}K;  H4t={3:6.3f}MJ'.format(G4, p4t, T4t, H4t/1e6))\n",
    "print('Estación 45: G45={0:3.1f}kg/s; p45t={1:7.0f}Pa; T45t={2:6.1f}K; H45t={3:6.3f}MJ'.format(G45, p45t, T45t, H45t/1e6))\n",
    "print('Estación  5:  G5={0:3.1f}kg/s;  p5t={1:7.0f}Pa;  T5t={2:6.1f}K;  H5t={3:6.3f}MJ'.format(G5, p5t, T5t, H5t/1e6))\n",
    "print('Estación  6:  G6={0:3.1f}kg/s;  p6t={1:7.0f}Pa;  T6t={2:6.1f}K;  H6t={3:6.3f}MJ'.format(G6, p6t, T6t, H6t/1e6))\n",
    "print('Estación  7:  G7={0:3.1f}kg/s;  p7t={1:7.0f}Pa;  T7t={2:6.1f}K;  H7t={3:6.3f}MJ'.format(G7, p7t, T7t, H7t/1e6))\n",
    "print('Estación  9:  G9={0:3.1f}kg/s;  p9t={1:7.0f}Pa;  T9t={2:6.1f}K;  H9t={3:6.3f}MJ'.format(G9, p9t, T9t, H9t/1e6))\n",
    "print('Estación  9:  p9={0:6.0f}Pa;   T9={1:5.1f}K;      v9={2:5.1f}m/s'.format(p9, T9, v9))"
   ]
  },
  {
   "cell_type": "markdown",
   "metadata": {},
   "source": [
    "#### Cálculo de Actuaciones:"
   ]
  },
  {
   "cell_type": "code",
   "execution_count": 19,
   "metadata": {},
   "outputs": [],
   "source": [
    "# Empuje\n",
    "E = empuje(Gs=G9, vs=v9, G0=G1, v0=v0)\n",
    "\n",
    "# Impulso\n",
    "Isp = impulso(E=E, G=G9)\n",
    "\n",
    "# Consumo Específico\n",
    "cE = consumo_especifico(E=E, c=c)\n",
    "\n",
    "# Rendimientos:\n",
    "eta_m, eta_p, eta_mp = rendimientos(G9=G9, G0=G1, v9=v9, v0=v0, c=c, L=L)"
   ]
  },
  {
   "cell_type": "code",
   "execution_count": 20,
   "metadata": {},
   "outputs": [
    {
     "name": "stdout",
     "output_type": "stream",
     "text": [
      "G9=39.9kg/s, c=0.7817kg/s\n",
      "E=30545N, Isp= 766m/s, cE=25.59g/s/kN)\n",
      "Rendimiento Motor: 53.6%. Rendimiento Propulsor: 34.0%. Rendimiento Motopropulsor: 18.2%.\n"
     ]
    }
   ],
   "source": [
    "print('G9={0:3.1f}kg/s, c={1:2.4f}kg/s'.format(G9, c))\n",
    "print('E={0:5.0f}N, Isp={1:4.0f}m/s, cE={2:3.2f}g/s/kN)'.format(E,Isp,cE*1e6))\n",
    "print('Rendimiento Motor: {0:3.1f}%. Rendimiento Propulsor: {1:3.1f}%. Rendimiento Motopropulsor: {2:3.1f}%.'.format(eta_m*100, eta_p*100, eta_mp*100))"
   ]
  },
  {
   "cell_type": "markdown",
   "metadata": {},
   "source": [
    "### 5) Postcombustor encendido:\n",
    "En esta condición, se asume que la altitud de vuelo es de 33000ft y la velocidad de 450KIAS. Siendo así, se tiene:"
   ]
  },
  {
   "cell_type": "code",
   "execution_count": 21,
   "metadata": {},
   "outputs": [],
   "source": [
    "# Corriente libre (aguas arriba del avión):\n",
    "h0_pc = 33000*0.3048 # m\n",
    "p0_pc = int_std_atm.pres_isa(h=h0_pc)\n",
    "T0_pc = int_std_atm.temp_isa(h=h0_pc, isa_dev=0)\n",
    "v0_pc = 320*1852/3600;\n",
    "M0_pc = ideal_isent_gas.mach_number(static_temperature=T0_pc, velocity=v0_pc)\n",
    "T0t_pc = ideal_isent_gas.stagnation_temperature_from_mach(mach=M0_pc, static_temperature=T0_pc)\n",
    "p0t_pc = ideal_isent_gas.stagnation_pressure_from_mach(mach=M0_pc, static_pressure=p0_pc, static_temperature=T0_pc)\n",
    "\n",
    "# Solución de la Toma (entrada limpia):\n",
    "p1t_pc = p0t_pc; T1t_pc=T0t_pc\n",
    "p1_pc = p0_pc; T1_pc = T0_pc\n",
    "v1_pc = v0_pc\n",
    "rho1_pc = p1_pc/Ra/T1_pc\n",
    "G1_pc = rho1_pc*A1*v1_pc\n",
    "\n",
    "# Salida del difusor:\n",
    "G2_pc = G1_pc\n",
    "T2t_pc = T1t_pc # Difusor isoentálpico\n",
    "p2t_pc = p1t_pc*relPres_rend_dif(rend_d=eta_d, rel_temp=T2t_pc/T1_pc, gamma_a=gamma_a)\n",
    "pi21_pc = p2t_pc/p1t_pc\n",
    "H0t_pc = G1_pc * cp_d * T0t_pc\n",
    "H1t_pc = G1_pc * cp_d * T1t_pc\n",
    "H2t_pc = G2_pc * cp_d * T2t_pc\n",
    "\n",
    "# Salida del compresor de Baja:\n",
    "Gsang_pc = G2_pc*0.15\n",
    "G25_pc = G2_pc - Gsang_pc\n",
    "p25t_pc = p2t_pc * pi_c2\n",
    "T25t_pc = T2t_pc*relTemp_rend_comp(rend_c=eta_c2, rel_comp=pi_c2, gamma_a=gamma_a)\n",
    "H25t_pc = G25_pc * cp_c2 * T25t_pc\n",
    "W_c2_pc = H25t_pc - H2t_pc\n",
    "\n",
    "# Salida del compresor de Alta:\n",
    "G3_pc = G25_pc\n",
    "p3t_pc = p25t_pc * pi_c1\n",
    "T3t_pc = T25t_pc * relTemp_rend_comp(rend_c=eta_c1, rel_comp=pi_c1, gamma_a=gamma_a)\n",
    "H3t_pc = G3_pc * cp_c2 * T3t_pc\n",
    "W_c1_pc = H3t_pc - H25t_pc\n",
    "\n",
    "# Salida cámara de combustión\n",
    "c_pc = f_pc * G3_pc\n",
    "G4_pc = G3_pc + c_pc\n",
    "Q43_pc = eta_q * L * c_pc\n",
    "T4t_pc = (Q43_pc + H3t_pc) / G4_pc / cp_cc\n",
    "H4t_pc = G4_pc * cp_cc * T4t_pc\n",
    "p4t_pc = p3t_pc * pi_cc\n",
    "\n",
    "# Salida turbina\n",
    "G45_pc = G4_pc\n",
    "T45t_pc = (H4t_pc - W_c1_pc)/G45/cp_t1\n",
    "H45t_pc = G45_pc * cp_t1 * T45t_pc\n",
    "W_t1_pc = H45t_pc - H4t_pc\n",
    "\n",
    "# Caída de presión de la turbina de alta:\n",
    "p45t_pc = p4t_pc * relPres_rend_turb(rend_t=eta_t1, rel_temp=T45t_pc/T4t_pc, gamma_a=gamma_a)\n",
    "\n",
    "# Gasto de la turbina de alta:\n",
    "G45_pc = G4_pc\n",
    "\n",
    "# Primer Principio a la Turbina:\n",
    "T45t_pc = (H4t_pc - W_c1_pc)/G45_pc/cp_t1\n",
    "H45t = G45_pc * cp_t1 * T45t_pc\n",
    "W_t1_pc = H45t_pc - H4t_pc\n",
    "\n",
    "# Caída de presión de la turbina de alta:\n",
    "p45t_pc = p4t_pc * relPres_rend_turb(rend_t=eta_t1, rel_temp=T45t_pc/T4t_pc, gamma_a=gamma_a)\n",
    "\n",
    "# Gasto de turbina de baja:\n",
    "G5_pc = G45_pc\n",
    "\n",
    "# Primer Principio a la Turbina:\n",
    "T5t_pc = (H45t_pc - W_c2_pc)/G5_pc/cp_t2\n",
    "H5t_pc = G5_pc * cp_t2 * T5t_pc\n",
    "W_t2_pc = H5t_pc - H45t_pc\n",
    "\n",
    "# Caída de presión de la turbina de baja:\n",
    "p5t_pc = p45t_pc * relPres_rend_turb(rend_t=eta_t2, rel_temp=T5t_pc/T45t_pc, gamma_a=gamma_a)\n",
    "\n",
    "# Salida del Jet-Pipe\n",
    "G6_pc = G5_pc\n",
    "p6t_pc = p5t_pc * pi_jp\n",
    "T6t_pc = H5t_pc/G6_pc/cp_t2\n",
    "H6t_pc = G6_pc*cp_t2*T6t_pc\n",
    "\n",
    "# Salida del postcombustor encendido:\n",
    "p7t_pc = p6t_pc * pi_pc\n",
    "\n",
    "c_pc = f_pc*G6\n",
    "G7_pc = G6_pc + c_pc\n",
    "\n",
    "Q76_pc = eta_pc * L * c_pc\n",
    "\n",
    "# Primer Principio a Cámara de Combustión:\n",
    "T7t_pc = (Q76_pc + H6t_pc) / G7_pc / cp_cc\n",
    "\n",
    "# Balance de Energía:\n",
    "H7t_pc = G7_pc * cp_cc * T7t_pc\n",
    "\n",
    "# Gasto en la tobera:\n",
    "G9_pc = G7_pc\n",
    "\n",
    "# Tobera adaptada:\n",
    "p9_pc = p0\n",
    "\n",
    "# Obtención de las temperaturas en la salida:\n",
    "# Del Primer Principio: Tobera isoentálpica:\n",
    "T9t_pc = H7t_pc/G9_pc/cp_to\n",
    "H9t_pc = G9_pc*cp_to*T9t_pc\n",
    "T9_pc = T7t_pc*relTemp_rend_tob(rend_to=eta_to, rel_comp=p9/p7t, gamma_a=gamma_a)\n",
    "\n",
    "# Presión de remanso en salida:\n",
    "p9t_pc = p9 * (T9t_pc/T9_pc)**(gamma_a/(gamma_a-1))\n",
    "\n",
    "# Cálculo de velocidad en salida:\n",
    "v9_pc = ideal_isent_gas.velocity_from_stagnation_temperature(stagnation_temperature=T9t_pc, static_temperature=T9_pc)\n",
    "\n",
    "# Empuje\n",
    "E_pc = empuje(Gs=G9_pc, vs=v9_pc, G0=G1_pc, v0=v0_pc)\n",
    "\n",
    "# Impulso\n",
    "Isp_pc = impulso(E=E_pc, G=G9_pc)\n",
    "\n",
    "# Consumo Específico\n",
    "cE_pc = consumo_especifico(E=E_pc, c=(c+c_pc))\n",
    "\n",
    "# Rendimientos:\n",
    "eta_m_pc, eta_p_pc, eta_mp_pc = rendimientos(G9=G9_pc, G0=G1_pc, v9=v9_pc, v0=v0_pc, c=(c+c_pc), L=L)"
   ]
  },
  {
   "cell_type": "code",
   "execution_count": 23,
   "metadata": {
    "scrolled": false
   },
   "outputs": [
    {
     "name": "stdout",
     "output_type": "stream",
     "text": [
      "Mach de vuelo: M0_pc=0.522; Altitud de vuelo: h0_pc= 6401m\n",
      "Estación  0:  G0_pc=29.9kg/s;  p0t_pc=  32281Pa;  T0t_pc= 236.3K;  H0t_pc= 7.066MJ\n",
      "Estación  1:  G1_pc=29.9kg/s;  p1t_pc=  32281Pa;  T1t_pc= 236.3K;  H1t_pc= 7.066MJ\n",
      "Estación  2:  G2_pc=29.9kg/s;  p2t_pc=  39029Pa;  T2t_pc= 236.3K;  H2t_pc= 7.066MJ\n",
      "Estación 25: G25_pc=25.4kg/s; p25t_pc= 117088Pa; T25t_pc= 345.2K; H25t_pc= 9.214MJ\n",
      "Estación  3:  G3_pc=25.4kg/s;  p3t_pc= 585438Pa;  T3t_pc= 574.2K;  H3t_pc=15.326MJ\n",
      "Estación  4:  G4_pc=26.3kg/s;  p4t_pc= 556166Pa;  T4t_pc=1590.4K;  H4t_pc=48.959MJ\n",
      "Estación 45: G45_pc=26.3kg/s; p45t_pc= 414094Pa; T45t_pc=1494.0K; H45t_pc=28.277MJ\n",
      "Estación  5:  G5_pc=26.3kg/s;  p5t_pc=  56660Pa;  T5t_pc= 911.1K;  H5t_pc=26.130MJ\n",
      "Estación  6:  G6_pc=26.3kg/s;  p6t=_pc  50994Pa;  T6t_pc= 911.1K;  H6t_pc=26.130MJ\n",
      "Estación  7:  G7_pc=27.7kg/s;  p7t=_pc  45894Pa;  T7t_pc=2433.2K;  H7t_pc=78.876MJ\n",
      "Estación  9:  G9_pc=27.7kg/s;  p9t=_pc 428630Pa;  T9t_pc=2846.8K;  H9t_pc=78.876MJ\n",
      "Estación  9:  p9_pc= 44740Pa;   T9_pc=1492.6K;      v9_pc=1649.0m/s\n",
      "G9_pc=27.7kg/s, c_pc=1.3954kg/s\n",
      "E_pc=40765N, Isp_pc=1471m/s, cE_pc=53.41g/s/kN)\n",
      "Rendimiento Motor: 40.8%. Rendimiento Propulsor: 19.6%. Rendimiento Motopropulsor: 8.0%.\n"
     ]
    }
   ],
   "source": [
    "print('Mach de vuelo: M0_pc={0:0.3f}; Altitud de vuelo: h0_pc={1:5.0f}m'.format(M0, h0))\n",
    "print('Estación  0:  G0_pc={0:3.1f}kg/s;  p0t_pc={1:7.0f}Pa;  T0t_pc={2:6.1f}K;  H0t_pc={3:6.3f}MJ'.format(G1_pc, p0t_pc, T0t_pc, H0t_pc/1e6))\n",
    "print('Estación  1:  G1_pc={0:3.1f}kg/s;  p1t_pc={1:7.0f}Pa;  T1t_pc={2:6.1f}K;  H1t_pc={3:6.3f}MJ'.format(G1_pc, p1t_pc, T1t_pc, H1t_pc/1e6))\n",
    "print('Estación  2:  G2_pc={0:3.1f}kg/s;  p2t_pc={1:7.0f}Pa;  T2t_pc={2:6.1f}K;  H2t_pc={3:6.3f}MJ'.format(G2_pc, p2t_pc, T2t_pc, H2t_pc/1e6))\n",
    "print('Estación 25: G25_pc={0:3.1f}kg/s; p25t_pc={1:7.0f}Pa; T25t_pc={2:6.1f}K; H25t_pc={3:6.3f}MJ'.format(G25_pc, p25t_pc, T25t_pc, H25t_pc/1e6))\n",
    "print('Estación  3:  G3_pc={0:3.1f}kg/s;  p3t_pc={1:7.0f}Pa;  T3t_pc={2:6.1f}K;  H3t_pc={3:6.3f}MJ'.format(G3_pc, p3t_pc, T3t_pc, H3t_pc/1e6))\n",
    "print('Estación  4:  G4_pc={0:3.1f}kg/s;  p4t_pc={1:7.0f}Pa;  T4t_pc={2:6.1f}K;  H4t_pc={3:6.3f}MJ'.format(G4_pc, p4t_pc, T4t_pc, H4t_pc/1e6))\n",
    "print('Estación 45: G45_pc={0:3.1f}kg/s; p45t_pc={1:7.0f}Pa; T45t_pc={2:6.1f}K; H45t_pc={3:6.3f}MJ'.format(G45_pc, p45t_pc, T45t_pc, H45t_pc/1e6))\n",
    "print('Estación  5:  G5_pc={0:3.1f}kg/s;  p5t_pc={1:7.0f}Pa;  T5t_pc={2:6.1f}K;  H5t_pc={3:6.3f}MJ'.format(G5_pc, p5t_pc, T5t_pc, H5t_pc/1e6))\n",
    "print('Estación  6:  G6_pc={0:3.1f}kg/s;  p6t=_pc{1:7.0f}Pa;  T6t_pc={2:6.1f}K;  H6t_pc={3:6.3f}MJ'.format(G6_pc, p6t_pc, T6t_pc, H6t_pc/1e6))\n",
    "print('Estación  7:  G7_pc={0:3.1f}kg/s;  p7t=_pc{1:7.0f}Pa;  T7t_pc={2:6.1f}K;  H7t_pc={3:6.3f}MJ'.format(G7_pc, p7t_pc, T7t_pc, H7t_pc/1e6))\n",
    "print('Estación  9:  G9_pc={0:3.1f}kg/s;  p9t=_pc{1:7.0f}Pa;  T9t_pc={2:6.1f}K;  H9t_pc={3:6.3f}MJ'.format(G9_pc, p9t_pc, T9t_pc, H9t_pc/1e6))\n",
    "print('Estación  9:  p9_pc={0:6.0f}Pa;   T9_pc={1:5.1f}K;      v9_pc={2:5.1f}m/s'.format(p9_pc, T9_pc, v9_pc))\n",
    "print('G9_pc={0:3.1f}kg/s, c_pc={1:2.4f}kg/s'.format(G9_pc, c_pc))\n",
    "print('E_pc={0:5.0f}N, Isp_pc={1:4.0f}m/s, cE_pc={2:3.2f}g/s/kN)'.format(E_pc,Isp_pc,cE_pc*1e6))\n",
    "print('Rendimiento Motor: {0:3.1f}%. Rendimiento Propulsor: {1:3.1f}%. Rendimiento Motopropulsor: {2:3.1f}%.'.format(eta_m_pc*100, eta_p_pc*100, eta_mp_pc*100))"
   ]
  },
  {
   "cell_type": "markdown",
   "metadata": {},
   "source": [
    "#### Presentación de Gastos, Temperaturas y Presiones en cada estación:"
   ]
  },
  {
   "cell_type": "code",
   "execution_count": 24,
   "metadata": {},
   "outputs": [
    {
     "data": {
      "image/png": "[encoded data removed]",
      "text/plain": [
       "<matplotlib.figure.Figure at 0x180a7a7240>"
      ]
     },
     "metadata": {},
     "output_type": "display_data"
    }
   ],
   "source": [
    "plt.figure()\n",
    "plt.plot([G1, G1, G2, G3, G4, G5, G6, G7, G9], '-sb')\n",
    "plt.plot([G1_pc, G1_pc, G2_pc, G3_pc, G4_pc, G5_pc, G6_pc, G7_pc, G9_pc], '-xr')\n",
    "plt.title('Gastos')\n",
    "plt.xlabel('Estación')\n",
    "plt.ylabel('G [kg/s]')\n",
    "plt.show()"
   ]
  },
  {
   "cell_type": "code",
   "execution_count": 25,
   "metadata": {},
   "outputs": [
    {
     "data": {
      "image/png": "[encoded data removed]",
      "text/plain": [
       "<matplotlib.figure.Figure at 0x1812502588>"
      ]
     },
     "metadata": {},
     "output_type": "display_data"
    }
   ],
   "source": [
    "plt.figure()\n",
    "plt.plot([p0t, p1t, p2t, p3t, p4t, p5t, p6t, p7t, p9], '-sb')\n",
    "plt.plot([p0t_pc, p1t_pc, p2t_pc, p3t_pc, p4t_pc, p5t_pc, p6t_pc, p7t_pc, p9_pc], '-xr')\n",
    "plt.title('Presión')\n",
    "plt.xlabel('Estación')\n",
    "plt.ylabel('P [Pa]')\n",
    "plt.show()"
   ]
  },
  {
   "cell_type": "code",
   "execution_count": 26,
   "metadata": {},
   "outputs": [
    {
     "data": {
      "image/png": "[encoded data removed]",
      "text/plain": [
       "<matplotlib.figure.Figure at 0x181255e240>"
      ]
     },
     "metadata": {},
     "output_type": "display_data"
    }
   ],
   "source": [
    "plt.figure()\n",
    "plt.plot([T0t, T1t, T2t, T3t, T4t, T5t, T6t, T7t, T9t], '-sb')\n",
    "plt.plot([T0t_pc, T1t_pc, T2t_pc, T3t_pc, T4t_pc, T5t_pc, T6t_pc, T7t_pc, T9t_pc], '-xr')\n",
    "plt.title('Temperatura')\n",
    "plt.xlabel('Estación')\n",
    "plt.ylabel('T [K]')\n",
    "plt.show()"
   ]
  },
  {
   "cell_type": "code",
   "execution_count": 27,
   "metadata": {},
   "outputs": [
    {
     "name": "stdout",
     "output_type": "stream",
     "text": [
      "Comparación empujes: E=30.5kN, Epc=40.8kN\n",
      "Comparación impulsos: Isp=766.1m/s, Isppc=1471.3m/s\n",
      "Comparación consumos específicos: cE=2.5593e-05kg/s/N, Isppc=5.3408e-05kg/s/N\n",
      "Comparación consumos: c=0.782kg/s, cpc=1.395kg/s\n",
      "Comparación rendimiento motopropulsor: eta_mp=18.247%, eta_mppc=7.992%\n"
     ]
    }
   ],
   "source": [
    "print('Comparación empujes: E={0:2.1f}kN, Epc={1:2.1f}kN'.format(E/1e3, E_pc/1e3))\n",
    "print('Comparación impulsos: Isp={0:2.1f}m/s, Isppc={1:2.1f}m/s'.format(Isp, Isp_pc))\n",
    "print('Comparación consumos específicos: cE={0:1.4e}kg/s/N, Isppc={1:1.4e}kg/s/N'.format(cE, cE_pc))\n",
    "print('Comparación consumos: c={0:2.3f}kg/s, cpc={1:2.3f}kg/s'.format(c, c_pc))\n",
    "print('Comparación rendimiento motopropulsor: eta_mp={0:1.3f}%, eta_mppc={1:1.3f}%'.format(eta_mp*100, eta_mp_pc*100))"
   ]
  }
 ],
 "metadata": {
  "anaconda-cloud": {},
  "kernelspec": {
   "display_name": "Python 3",
   "language": "python",
   "name": "python3"
  },
  "language_info": {
   "codemirror_mode": {
    "name": "ipython",
    "version": 3
   },
   "file_extension": ".py",
   "mimetype": "text/x-python",
   "name": "python",
   "nbconvert_exporter": "python",
   "pygments_lexer": "ipython3",
   "version": "3.6.4"
  }
 },
 "nbformat": 4,
 "nbformat_minor": 2
}
