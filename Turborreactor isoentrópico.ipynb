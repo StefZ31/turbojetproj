{
 "cells": [
  {
   "cell_type": "markdown",
   "metadata": {},
   "source": [
    "## Turborreactor isoentrópico\n",
    "\n",
    "Supóngase un turborreactor de rendimientos adiabáticos isoentrópicos y combustión diluida, funcionando en un banco a nivel del mar. Supóngase que el turborreactor consume *n-Heptano* ($C_7H_{16}$) con poder calorífico conocido y con un dosado pobre de ratio de equivalencia 0.5.\n",
    "\n",
    "El compresor tiene una relación de compresión 4:1 y el acoplamiento mecánico de la turbina y el compresor presenta pérdidas por valor del 10% del trabajo entregado en forma de rozamiento. Si se asume que la tobera es convergente, se pide:\n",
    "\n",
    "#### Obtener:\n",
    "- Empuje total si la tobera presenta rendimiento adiabático unidad y es adaptada\n",
    "- Empuje total si se considera que la salida es supersónica\n",
    "- ¿Son coherentes los resultados?\n",
    "\n",
    "\n",
    "#### Datos:\n",
    "$$c<<G_3$$\n",
    "$$G_0=10\\frac{kg}{s}$$\n",
    "$$c_p=1004\\frac{J}{kg K}$$\n",
    "$$h_0=0m$$\n",
    "$$R_a=287 \\frac{J}{kg K}$$\n",
    "$$\\gamma_a=1.4$$\n",
    "$$L_{hep}=45\\frac{MJ}{kg}$$\n",
    "$$\\phi=0.5$$\n",
    "$$M_C=12\\frac{g}{mol}; M_H=1\\frac{g}{mol}; M_O=16\\frac{g}{mol}; M_N=14\\frac{g}{mol}$$\n",
    "\n",
    "Se puede asumir hipótesis de gas ideal.\n",
    "\n",
    "---"
   ]
  },
  {
   "cell_type": "markdown",
   "metadata": {},
   "source": [
    "## Solución\n",
    "\n",
    "Para abordar el turborreactor se debe asumir la condición de entrada al turborreactor. Con una altura de 0MSNM se toma:\n",
    "\n",
    "$$T_0=15ºC=288.15K$$\n",
    "$$p_0=101325Pa$$\n",
    "\n",
    "Con esto, como el motor se encuentra en banco, se puede imponer que $v_0\\approx 0\\frac{m}{s}$ y por tanto que:\n",
    "\n",
    "$$T_{0t}=T_0$$\n",
    "$$p_{0t}=p_0$$\n"
   ]
  },
  {
   "cell_type": "markdown",
   "metadata": {},
   "source": [
    "El difusor siempre es isoentálpico:\n",
    "\n",
    "$$T_{0t}=T_{1t}=T_{2t}$$\n",
    "$$H_{2t}=G_2 c_p T_{2t}$$\n",
    "\n",
    "Además, como la toma es isoentrópica:\n",
    "\n",
    "$$p_{0t}=p_{0t}=p_{1t}=p_{2t}$$\n",
    "\n",
    "Y por ecuación de la continuidad, en la entrada del motor se tiene:\n",
    "\n",
    "$$G_0=G_1=G_2$$"
   ]
  },
  {
   "cell_type": "markdown",
   "metadata": {},
   "source": [
    "En este punto, el compresor aporta:\n",
    "\n",
    "$$\\pi_{32}=4=\\frac{p_{3t}}{p_{2t}} \\rightarrow p_{3t}=\\pi_{32}p_{2t}$$\n",
    "\n",
    "$$\\eta_{32}=1\\rightarrow \\frac{p_{3t}}{p_{2t}}=\\left(\\frac{T_{3t}}{T_{2t}}\\right)^{\\frac{\\gamma}{\\gamma-1}}$$\n",
    "\n",
    "$$H_{3t}=G_3 c_p T_{3t}$$\n",
    "\n",
    "#### Operando:"
   ]
  },
  {
   "cell_type": "code",
   "execution_count": 72,
   "metadata": {},
   "outputs": [],
   "source": [
    "import math"
   ]
  },
  {
   "cell_type": "code",
   "execution_count": 41,
   "metadata": {},
   "outputs": [],
   "source": [
    "# Datos:\n",
    "Ra = 287 # J/kg/K\n",
    "cp = 1004 # J/kg/K\n",
    "gamma_a = 1.4 # -\n",
    "pi_32 = 4 #-\n",
    "\n",
    "MN = 14 #g/mol\n",
    "MO = 16 #g/mol\n",
    "MH = 1 #g/mol\n",
    "MC = 12 #g/mol"
   ]
  },
  {
   "cell_type": "code",
   "execution_count": 48,
   "metadata": {},
   "outputs": [
    {
     "name": "stdout",
     "output_type": "stream",
     "text": [
      "p3t= 405300Pa;  T3t= 428.2K\n"
     ]
    }
   ],
   "source": [
    "# Condición de la toma:\n",
    "G0 = G1 = G2 = 10 #kg/s\n",
    "p0 = p0t = p1t = p2t = 101325 #Pa\n",
    "T0 = T0t = T1t = T2t = 15 + 273.15 #K\n",
    "H0t=H1t=H2t = G0*cp*T0t\n",
    "\n",
    "# Condición compresor:\n",
    "p3t= pi_32*p2t\n",
    "T3t = T2t*(p3t/p2t)**((gamma_a-1)/gamma_a)\n",
    "G3 = G2\n",
    "H3t = G3*cp*T3t\n",
    "\n",
    "print('p3t={0:7.0f}Pa;  T3t={1:6.1f}K'.format(p3t, T3t))"
   ]
  },
  {
   "cell_type": "markdown",
   "metadata": {},
   "source": [
    "La cámara de combustión no tiene especificación de caída de presión por lo que se asumirá que ésta es nula ($p_{3t}=p_{4t}$). El combustible empleado es n-Heptano $C_7H_{16}$ por lo que su dosado estequiométrico es:\n",
    "\n",
    "$$f_{st} = \\frac{1\\times M_{C7H16}}{4.76M_a\\left(\\alpha+\\frac{\\beta}{2}-\\frac{\\gamma}{4}\\right)}$$\n",
    "\n",
    "Donde $\\alpha$, $\\beta$, $\\gamma$ con los carbonos, hidrógenos y oxígenos respectivos de la molécula de n-Heptano. Además se conoce el ratio de equivalencia por lo que el dosado real queda:\n",
    "\n",
    "$$ \\phi=0.5 \\rightarrow f=\\phi\\times f_{st}$$\n",
    "\n",
    "Además, como el rendimiento de la combustión no se especifíca, se tomará que:\n",
    "$$\\eta_{43}=1\\rightarrow Q_{43} = c\\times L$$"
   ]
  },
  {
   "cell_type": "code",
   "execution_count": 49,
   "metadata": {},
   "outputs": [],
   "source": [
    "Ma = 0.21*2*MO + 0.79*2*MN\n",
    "\n",
    "alpha = 7\n",
    "beta = 16\n",
    "gamma = 0\n",
    "MC7H17 = alpha*MC + beta*MH\n",
    "\n",
    "phi = 0.5\n",
    "L=45e6 #J/kg"
   ]
  },
  {
   "cell_type": "code",
   "execution_count": 50,
   "metadata": {},
   "outputs": [],
   "source": [
    "f_st = MC7H17/(4.76*Ma*(alpha+beta/4-gamma/2))\n",
    "f = phi*f_st\n",
    "c = f*G3\n",
    "G4 = G3 # combustión diluida\n",
    "Q43 = c*L\n",
    "H4t = G4*cp*T4t"
   ]
  },
  {
   "cell_type": "code",
   "execution_count": 51,
   "metadata": {},
   "outputs": [
    {
     "name": "stdout",
     "output_type": "stream",
     "text": [
      "f_st=0.066222;  f=0.033111;  c= 0.331kg/s;  Q43=14.900MJ;  H4t=19.199MJ\n"
     ]
    }
   ],
   "source": [
    "print('f_st={0:8.6f};  f={1:8.6f};  c={2:6.3f}kg/s;  Q43={3:6.3f}MJ;  H4t={4:6.3f}MJ'.format(f_st, f, c, Q43*1e-6, H4t*1e-6))"
   ]
  },
  {
   "cell_type": "markdown",
   "metadata": {},
   "source": [
    "Con el calor de la combustión, se puede resolver la temperatura en salida de combustión. Con el Primer Principio:\n",
    "\n",
    "$$\\dot{H}_{4t}-\\dot{H}_{3t}=Q_{43} \\rightarrow G_4 cp T_{4t} - G_3 cp T_3t=c L$$\n",
    "\n",
    "Además, como la combustión es diluida:\n",
    "$$G_4 \\approx G_3$$\n",
    "\n",
    "Por tanto:\n",
    "\n",
    "$$G_3cp\\left(T_{4t}-T_{3t}\\right) = Q_{43} \\rightarrow T_{4t}=\\frac{Q_{43}}{G_3 cp} + T_{3t}$$"
   ]
  },
  {
   "cell_type": "code",
   "execution_count": 52,
   "metadata": {},
   "outputs": [
    {
     "name": "stdout",
     "output_type": "stream",
     "text": [
      "p4t= 405300Pa;  T4t=1912.3K\n"
     ]
    }
   ],
   "source": [
    "T4t = T3t + Q43/cp/G3\n",
    "p4t = p3t\n",
    "print('p4t={0:7.0f}Pa;  T4t={1:6.1f}K'.format(p4t, T4t))"
   ]
  },
  {
   "cell_type": "markdown",
   "metadata": {},
   "source": [
    "El acoplamiento mecánico a la turbina mediante Primer Principio ofrece:\n",
    "\n",
    "$$ \\dot{H}_{3t}-\\dot{H}_{2t} = \\dot{W}_{32}$$\n",
    "$$ \\dot{H}_{5t}-\\dot{H}_{4t} = \\dot{W}_{54}$$\n",
    "\n",
    "$$\\dot{W}_{54}+\\dot{W}_{32} + \\delta_p = 0$$\n",
    "\n",
    "Las pérdidas $\\delta_p$ se han cuantificado en un $10\\%$ del trabajo del compresor, por lo que el aporte total de la turbina al eje del turborreactor queda:\n",
    "\n",
    "$$ \\dot{W}_{54}+\\dot{W}_{32} + 0.1\\times \\dot{W}_{32}= 0 \\rightarrow \\dot{W}_{54}=-1.1\\times\\dot{W}_{32}$$"
   ]
  },
  {
   "cell_type": "code",
   "execution_count": 61,
   "metadata": {},
   "outputs": [
    {
     "name": "stdout",
     "output_type": "stream",
     "text": [
      "H3t= 4.299MJ;  H2t= 2.893MJ;  H5t=17.652MJ;  H4t=19.199MJ;  \n",
      "W32= 1.406MJ;  W54=-1.547MJ\n"
     ]
    }
   ],
   "source": [
    "W32 = H3t - H2t\n",
    "W54 = -1.1*W32\n",
    "H5t = W54 + H4t\n",
    "print('H3t={0:6.3f}MJ;  H2t={1:6.3f}MJ;  H5t={2:6.3f}MJ;  H4t={3:6.3f}MJ;  '.format(H3t*1e-6, H2t*1e-6, H5t*1e-6, H4t*1e-6))\n",
    "print('W32={0:6.3f}MJ;  W54={1:6.3f}MJ'.format(W32*1e-6, W54*1e-6))"
   ]
  },
  {
   "cell_type": "markdown",
   "metadata": {},
   "source": [
    "Con esto, asumiendo que el gasto es igual y que el proceso de extracción de potencia en la turbina es isoentrópico:"
   ]
  },
  {
   "cell_type": "code",
   "execution_count": 65,
   "metadata": {},
   "outputs": [
    {
     "name": "stdout",
     "output_type": "stream",
     "text": [
      "p5t= 302076Pa;  T5t=1758.2K\n"
     ]
    }
   ],
   "source": [
    "G5 = G4\n",
    "\n",
    "T5t = H5t/G5/cp\n",
    "p5t = p4t * (T5t/T4t)**(gamma_a/(gamma_a-1))\n",
    "print('p5t={0:7.0f}Pa;  T5t={1:6.1f}K'.format(p5t, T5t))"
   ]
  },
  {
   "cell_type": "markdown",
   "metadata": {},
   "source": [
    "Para finalizar, la tobera óptima (isoentrópica y adaptada) implicaría que $p_9=p_0$. Además la tobera siempre es isoentálpica ($T_{7t}=T_{9t}$) por lo que:\n",
    "\n",
    "$$ \\frac{p_9}{p_{7t}} = \\left(\\frac{T_{7}}{T_{7t}}\\right)^\\frac{\\gamma}{\\gamma-1}$$\n",
    "\n",
    "Donde $p_{7t}=p_{5t}$ y $T_{7t}=T_{5t}$ por no haber postcombustor. Además, identificando términos con la expresión de fluido isoentrópico se observa que $p_{9t}=p_{7t}$.\n",
    "\n",
    "De esta forma, la temperatura estática en salida queda:"
   ]
  },
  {
   "cell_type": "code",
   "execution_count": 86,
   "metadata": {},
   "outputs": [
    {
     "name": "stdout",
     "output_type": "stream",
     "text": [
      "p9t=p7t= 302076Pa;  T9t=T7t=1758.2K\n",
      "p9= 101325Pa;  T9=1286.9K\n"
     ]
    }
   ],
   "source": [
    "G9 = G7 = G5\n",
    "p9 = p0\n",
    "T9t=T7t=T5t\n",
    "p9t=p7t=p5t\n",
    "\n",
    "T9 = T9t*(p9/p9t)**((gamma_a-1)/gamma_a)\n",
    "print('p9t=p7t={0:7.0f}Pa;  T9t=T7t={1:6.1f}K'.format(p9t, T9t))\n",
    "print('p9={0:7.0f}Pa;  T9={1:6.1f}K'.format(p9, T9))"
   ]
  },
  {
   "cell_type": "markdown",
   "metadata": {},
   "source": [
    "Para finalizar el empuje se obtiene según:\n",
    "\n",
    "$$E=G_9v_9-G_0v_0+A_9\\left(p_9-p_0\\right)\\approx G_9v_9$$\n",
    "\n",
    "Donde la velocidad se despeja de la temperatura de remanso:\n",
    "\n",
    "$$v_9 = \\sqrt{2c_p\\left(T_{9t}-T9\\right)}$$"
   ]
  },
  {
   "cell_type": "code",
   "execution_count": 87,
   "metadata": {},
   "outputs": [
    {
     "name": "stdout",
     "output_type": "stream",
     "text": [
      "v9= 972.9m/s;  E= 9.7kN\n"
     ]
    }
   ],
   "source": [
    "v9 = math.sqrt(2*cp*(T9t-T9))\n",
    "E=G9*v9\n",
    "print('v9={0:6.1f}m/s;  E={1:4.1f}kN'.format(v9,E*1e-3))"
   ]
  },
  {
   "cell_type": "markdown",
   "metadata": {},
   "source": [
    "Si se impone la condición de tobera supersónica, como la tobera es convergente, entonces se tiene que $M_9=M_8=1$. Esto impone que:\n",
    "\n",
    "$$M_9=1\\rightarrow v_9=\\sqrt{\\gamma_aR_aT_9}$$\n",
    "\n",
    "Por tanto, operando, se tiene que la velocidad y el empuje serían:"
   ]
  },
  {
   "cell_type": "code",
   "execution_count": 93,
   "metadata": {},
   "outputs": [
    {
     "name": "stdout",
     "output_type": "stream",
     "text": [
      "v9= 719.1m/s;  E= 7.2kN\n"
     ]
    }
   ],
   "source": [
    "v9 = math.sqrt(Ra*gamma_a*T9)\n",
    "E=G9*v9\n",
    "print('v9={0:6.1f}m/s;  E={1:4.1f}kN'.format(v9,E*1e-3))"
   ]
  },
  {
   "cell_type": "markdown",
   "metadata": {},
   "source": [
    "Por consiguiente, y a la vista de los resultados, el planteamiento de tobera adaptada propuesto es inviable. Esto se puede observar en el hecho de que si la tobera es crítica entonces el empuje obtenido es de 7.2kN. La condición de tobera adaptada, si bien optimiza el aprovechamiento de la energía, no puede exceder el empuje de la tobera crítica puesto que de ser así, el Mach de salida sería:"
   ]
  },
  {
   "cell_type": "code",
   "execution_count": 94,
   "metadata": {},
   "outputs": [
    {
     "name": "stdout",
     "output_type": "stream",
     "text": [
      "v9= 719.1m/s;  M9= 1.4\n"
     ]
    }
   ],
   "source": [
    "M9=math.sqrt(2*cp*(T9t-T9))/math.sqrt(gamma_a*Ra*T9)\n",
    "print('v9={0:6.1f}m/s;  M9={1:4.1f}'.format(v9, M9))"
   ]
  },
  {
   "cell_type": "markdown",
   "metadata": {},
   "source": [
    "El Mach 1.4 obtenido es imposible con tobera convergente, se necesita una tobera tipo Laval por lo que la condición adaptada es inalcanzable.\n",
    "\n",
    "Sobre el caso de tobera crítica, además, se puede observar que el gasto circulante ($G_9$) es a su vez igual a:\n",
    "\n",
    "$$G_9=\\rho_9 A_9 v_9$$\n",
    "\n",
    "Donde $\\rho_9 = \\frac{p_9}{R_aT_9}$\n",
    "\n",
    "Si se despeja el área de salida de tobera que es necesario para llegar a tobera crítica se tiene:"
   ]
  },
  {
   "cell_type": "code",
   "execution_count": 100,
   "metadata": {},
   "outputs": [
    {
     "name": "stdout",
     "output_type": "stream",
     "text": [
      "A9=0.051m2;  R9= 0.127m\n"
     ]
    }
   ],
   "source": [
    "rho9 = p9/Ra/T9\n",
    "A9 = G9/v9/rho9\n",
    "R9 = math.sqrt(A9/math.pi)\n",
    "\n",
    "print('A9={0:5.3f}m2;  R9={1:6.3f}m'.format(A9, R9))"
   ]
  }
 ],
 "metadata": {
  "kernelspec": {
   "display_name": "Python 3",
   "language": "python",
   "name": "python3"
  },
  "language_info": {
   "codemirror_mode": {
    "name": "ipython",
    "version": 3
   },
   "file_extension": ".py",
   "mimetype": "text/x-python",
   "name": "python",
   "nbconvert_exporter": "python",
   "pygments_lexer": "ipython3",
   "version": "3.7.9"
  }
 },
 "nbformat": 4,
 "nbformat_minor": 4
}
