{
 "cells": [
  {
   "cell_type": "markdown",
   "id": "546309b0-fdbe-48a4-9306-90b52b5be3b9",
   "metadata": {},
   "source": [
    "# Modelo de Gas en un Turborreactor\n",
    "\n",
    "Resuelva un turborreactor de $0.5m^2$ de área de entrada, con difusor y tobera isoentrópicas, dos compresores de relación de compresión $5:1$ y rendimiento adiabático del $75\\%$ acoplados a una única turbina de rendimiento $80\\%$ y cuyo eje produce pérdidas por valor de un $8\\%$ de la energía generada. La combustión con se produce a pérdida de carga despreciable y un rendimiento de la combustión del $95\\%$ además de un ratio de equivalencia del $50\\%$ con un combustible de $43\\frac{MJ}{kg}$ y dosado estequiométrica $f=0.0664$.\n",
    "\n",
    "Asuma velocidad de entrada de la corriente laminar de 200 $\\frac{m}{s}$ y altura de vuelo de $5000m$.\n",
    "\n",
    "Con todo esto obtenga las actuaciones y compare los resultados entre la aproximación de gas perfecto y la de gas semiperfecto. Establezca, en el modelo de gas semiperfecto, la evolución de calor específico y coeficiente de dilatación adiabático variables en cada estación."
   ]
  },
  {
   "cell_type": "code",
   "execution_count": 19,
   "id": "358d1ba7-712e-4890-a41f-895c5dec6345",
   "metadata": {},
   "outputs": [
    {
     "name": "stdout",
     "output_type": "stream",
     "text": [
      "AUX  :  pt=       1Pa;  Tt=   2K;  G=  3.0kg/s;  Ht=  0.000MW\n"
     ]
    }
   ],
   "source": [
    "# Auxiliar\n",
    "etapa = \"AUX\"\n",
    "print(\"{:5s}:  pt={:8.0f}Pa;  Tt={:4.0f}K;  G={:5.1f}kg/s;  Ht={:7.3f}MW\".format(etapa, 1, 2, 3, 4*1e-6))"
   ]
  },
  {
   "cell_type": "code",
   "execution_count": 20,
   "id": "272befbb-08c4-407f-82a7-831ea07f53af",
   "metadata": {},
   "outputs": [],
   "source": [
    "# Importaciones de código\n",
    "from pyturb.gas_models import isa, PerfectIdealGas, SemiperfectIdealGas, IsentropicFlow\n",
    "import numpy as np\n",
    "import iteradores_gas_semiperfecto as iteradores\n",
    "\n",
    "aire = SemiperfectIdealGas('Air')\n",
    "aire_isent = IsentropicFlow(aire)"
   ]
  },
  {
   "cell_type": "code",
   "execution_count": 21,
   "id": "85f5001a-2a99-4a52-bf1f-5ddb54e4ae9b",
   "metadata": {},
   "outputs": [],
   "source": [
    "## Datos turborreactor (entrada)\n",
    "Ae = 0.5 #m^2\n",
    "h0 = 5000#m\n",
    "v0 = 200 #m/s\n",
    "# Difusor isoentrópico\n",
    "\n",
    "# Tobero: desconocida el área, isoentrópica\n",
    "\n",
    "# Datos turbomáquina\n",
    "rend_c1 = rend_c2 = 0.75\n",
    "pi_c1 = pi_c2 = 5\n",
    "rend_cc = 0.95\n",
    "pi_cc = 1\n",
    "rend_t = 0.8\n",
    "# Pérdidas en eje turbina del 8%"
   ]
  },
  {
   "cell_type": "code",
   "execution_count": 22,
   "id": "ed4021c2-8786-4d53-945a-fe8ccb705be9",
   "metadata": {},
   "outputs": [],
   "source": [
    "# Datos combustible\n",
    "L = 43e6 # J/kg\n",
    "fs = 0.0664\n",
    "ratio_equiv = 0.5"
   ]
  },
  {
   "cell_type": "code",
   "execution_count": 23,
   "id": "21e1203b-c8ea-4191-ae86-3b917654f3a4",
   "metadata": {},
   "outputs": [
    {
     "name": "stdout",
     "output_type": "stream",
     "text": [
      "p0=54020Pa;  T0=255.6K; M0=0.624\n",
      "Dif_1:  pt=   70231Pa;  Tt= 276K;  G= 73.6kg/s;  Ht= 20.364MW\n",
      "Dif_2:  pt=   70231Pa;  Tt= 276K;  G= 73.6kg/s;  Ht= 20.364MW\n"
     ]
    }
   ],
   "source": [
    "## Entrada y difusor\n",
    "# Entrada etapa 1:\n",
    "T0 = isa.temperature_isa(h0)\n",
    "p0 = isa.pressure_isa(h0)\n",
    "rho0 = p0/T0/aire.Rg\n",
    "\n",
    "G1=G0 = Ae*v0*rho0\n",
    "\n",
    "M1=M0 = aire_isent.mach_number(v0, T0)\n",
    "T1t=T0t = aire_isent.stag_temp_from_mach(M0, T0)\n",
    "p1t=p0t = aire_isent.stag_pressure_from_mach(M0, p0, T0)\n",
    "\n",
    "H1t = G1*aire.cp(T1t)*T1t\n",
    "\n",
    "print(\"p0={:5.0f}Pa;  T0={:4.1f}K; M0={:4.3f}\".format(p0, T0, M0))\n",
    "etapa = \"Dif_1\"\n",
    "print(\"{:5s}:  pt={:8.0f}Pa;  Tt={:4.0f}K;  G={:5.1f}kg/s;  Ht={:7.3f}MW\".format(etapa, p1t, T1t, G1, H1t*1e-6))\n",
    "\n",
    "# Salida del difusor 2:\n",
    "T2t = T1t\n",
    "p2t = p1t\n",
    "H2t = H1t\n",
    "G2 = G1\n",
    "\n",
    "etapa = \"Dif_2\"\n",
    "print(\"{:5s}:  pt={:8.0f}Pa;  Tt={:4.0f}K;  G={:5.1f}kg/s;  Ht={:7.3f}MW\".format(etapa, p2t, T2t, G2, H2t*1e-6))"
   ]
  },
  {
   "cell_type": "markdown",
   "id": "760c6296-6080-48ca-a392-502018a1598a",
   "metadata": {},
   "source": [
    "$$ \\dot{W}_c + \\dot{Q_c} = \\Delta\\dot{H}_c = G c_p \\left(T_{25t}-T_{2t}\\right)$$\n",
    "$$ \\eta_c = \\frac{\\pi_c^{\\frac{\\gamma-1}{\\gamma}}-1}{\\frac{T_{25t}}{T_{2t}}-1}$$"
   ]
  },
  {
   "cell_type": "markdown",
   "id": "cac54a93-5694-4579-b70b-0d729789dd84",
   "metadata": {},
   "source": [
    "$$ \\pi_c^{\\frac{\\gamma-1}{\\gamma}}-1 = \\eta_c \\left(\\frac{T_{25t}}{T_{2t}}-1\\right)$$"
   ]
  },
  {
   "cell_type": "code",
   "execution_count": 24,
   "id": "a3b0c770-51e9-441f-8f41-f3cfbc1e9660",
   "metadata": {},
   "outputs": [
    {
     "name": "stdout",
     "output_type": "stream",
     "text": [
      "1 --  Tst= 490.3K;  T_c= 275.6K;  deltaT=0.745299;  Converge: False\n",
      "2 --  Tst= 488.3K;  T_c= 383.0K;  deltaT=0.006999;  Converge: False\n",
      "3 --  Tst= 488.4K;  T_c= 382.0K;  deltaT=0.000102;  Converge: False\n",
      "4 --  Tst= 488.4K;  T_c= 382.0K;  deltaT=0.000001;  Converge: True\n",
      "COMP1:  pt=  351154Pa;  Tt= 488K;  G= 73.6kg/s;  Ht= 36.931MW\n"
     ]
    }
   ],
   "source": [
    "# Compresor baja\n",
    "Tcomp1 = T2t\n",
    "p25t = p2t * pi_c1\n",
    "\n",
    "# Modelo perfecto e ideal\n",
    "T25t_T2t_ideal = (pi_c1**((aire.gamma(Tcomp1)-1)/aire.gamma(Tcomp1)) - 1)/rend_c1 + 1\n",
    "T25t_ideal = T25t_T2t_ideal * T2t\n",
    "\n",
    "# Temperatura final:\n",
    "T25t = iteradores.itera_compresor(rend_c1, pi_c1, T2t, aire)\n",
    "\n",
    "G25 = G2\n",
    "H25t = G25 * aire.cp(T25t) * T25t\n",
    "\n",
    "etapa = \"COMP1\"\n",
    "print(\"{:5s}:  pt={:8.0f}Pa;  Tt={:4.0f}K;  G={:5.1f}kg/s;  Ht={:7.3f}MW\".format(etapa, p25t, T25t, G25, H25t*1e-6))\n",
    "\n",
    "Wc1 = H25t-H2t"
   ]
  },
  {
   "cell_type": "code",
   "execution_count": 25,
   "id": "9522f2ca-bd88-47a4-9ed7-e4c231efb451",
   "metadata": {},
   "outputs": [
    {
     "name": "stdout",
     "output_type": "stream",
     "text": [
      "1 --  Tst= 858.1K;  T_c= 488.4K;  deltaT=1.283176;  Converge: False\n",
      "2 --  Tst= 840.6K;  T_c= 673.2K;  deltaT=0.060751;  Converge: False\n",
      "3 --  Tst= 841.5K;  T_c= 664.5K;  deltaT=0.002988;  Converge: False\n",
      "4 --  Tst= 841.4K;  T_c= 664.9K;  deltaT=0.000147;  Converge: False\n",
      "5 --  Tst= 841.4K;  T_c= 664.9K;  deltaT=0.000007;  Converge: True\n",
      "COMP2:  pt= 1755768Pa;  Tt= 841K;  G= 73.6kg/s;  Ht= 68.638MW\n"
     ]
    }
   ],
   "source": [
    "# Compresor alta\n",
    "Tcomp2 = T25t\n",
    "p3t = p25t * pi_c2\n",
    "\n",
    "# Temperatura final:\n",
    "T3t = iteradores.itera_compresor(rend_c2, pi_c2, T25t, aire)\n",
    "\n",
    "G3 = G25\n",
    "H3t = G3 * aire.cp(T3t) * T3t\n",
    "\n",
    "etapa = \"COMP2\"\n",
    "print(\"{:5s}:  pt={:8.0f}Pa;  Tt={:4.0f}K;  G={:5.1f}kg/s;  Ht={:7.3f}MW\".format(etapa, p3t, T3t, G3, H3t*1e-6))\n",
    "\n",
    "Wc2 = H3t-H25t"
   ]
  },
  {
   "cell_type": "markdown",
   "id": "930c29d0-bb91-433f-a0d3-53fbb7d830af",
   "metadata": {},
   "source": [
    "$$ \\dot{W}_{cc} + \\dot{Q_{cc}} = \\Delta\\dot{H}_{cc} = G c_p \\left(T_{4t}-T_{3t}\\right) = \\eta_q c L$$"
   ]
  },
  {
   "cell_type": "code",
   "execution_count": 32,
   "id": "59b286cb-995a-490f-b4b1-a7d85bd3d6b8",
   "metadata": {},
   "outputs": [
    {
     "name": "stdout",
     "output_type": "stream",
     "text": [
      "1 --  Tst=2065.3K;  T_c= 841.4K;  deltaT=4.247287;  Converge: False\n",
      "2 --  Tst=1965.8K;  T_c=1453.3K;  deltaT=0.345077;  Converge: False\n",
      "3 --  Tst=1970.9K;  T_c=1403.6K;  deltaT=0.017665;  Converge: False\n",
      "4 --  Tst=1970.7K;  T_c=1406.2K;  deltaT=0.000934;  Converge: False\n",
      "5 --  Tst=1970.7K;  T_c=1406.0K;  deltaT=0.000049;  Converge: False\n",
      "6 --  Tst=1970.7K;  T_c=1406.0K;  deltaT=0.000003;  Converge: True\n",
      "COMB :  pt= 1755768Pa;  Tt=1971K;  G= 73.6kg/s;  Ht=181.111MW\n"
     ]
    }
   ],
   "source": [
    "# Cámara de combustión\n",
    "G4 = G3 # Hipótesis de combustión diluida\n",
    "f = ratio_equiv*fs\n",
    "c = G3*f\n",
    "Q43 = rend_cc * c * L\n",
    "\n",
    "T4t = iteradores.itera_combustor(Q43, G4, T3t, aire)\n",
    "p4t = p3t * pi_cc\n",
    "H4t = G4*aire.cp(T4t)*T4t\n",
    "\n",
    "etapa = \"COMB\"\n",
    "print(\"{:5s}:  pt={:8.0f}Pa;  Tt={:4.0f}K;  G={:5.1f}kg/s;  Ht={:7.3f}MW\".format(etapa, p4t, T4t, G4, H4t*1e-6))"
   ]
  },
  {
   "cell_type": "markdown",
   "id": "c919f64f-1ab9-4881-a9f9-98f0c02750b3",
   "metadata": {},
   "source": [
    "$$ W_{c1} + W_{c2} + W_{p} + W_{t1} = 0; \\qquad W_{p} = -0.08W_{t1}$$\n",
    "\n",
    "$$ W_{c1} + W_{c2} + W_{turb} = 0 \\rightarrow W_{turb} = 1.08 \\times W_{t1} = 1.08\\times\\left(-W_{c1}-W_{c2}\\right)$$\n",
    "\n",
    "$$ W_t = G c_p \\left( T_{5t}-T_{4t}\\right)$$"
   ]
  },
  {
   "cell_type": "markdown",
   "id": "a35e5f45-5d82-449d-9f8e-fb5ceb8d41a5",
   "metadata": {},
   "source": [
    "$$ \\eta_t \\times \\left(\\pi_t^{\\frac{\\gamma-1}{\\gamma}} - 1\\right) = \\frac{T_{5t}}{T_{4t}} - 1$$"
   ]
  },
  {
   "cell_type": "code",
   "execution_count": 27,
   "id": "21666622-3bef-4222-aa76-376ee895f84e",
   "metadata": {},
   "outputs": [
    {
     "name": "stdout",
     "output_type": "stream",
     "text": [
      "1 --  Tst=1403.4K;  T_c=1970.7K;  deltaT=1.968748;  Converge: False\n",
      "2 --  Tst=1393.9K;  T_c=1687.0K;  deltaT=0.032825;  Converge: False\n",
      "3 --  Tst=1393.7K;  T_c=1682.3K;  deltaT=0.000637;  Converge: False\n",
      "4 --  Tst=1393.7K;  T_c=1682.2K;  deltaT=0.000012;  Converge: False\n",
      "5 --  Tst=1393.7K;  T_c=1682.2K;  deltaT=0.000000;  Converge: True\n",
      "TURB :  pt=  250160Pa;  Tt=1394K;  G= 73.6kg/s;  Ht=123.073MW\n"
     ]
    }
   ],
   "source": [
    "# Turbina\n",
    "Wconsumidores = 1.08*(Wc1 + Wc2)\n",
    "Wt = -Wconsumidores\n",
    "G5 = G4\n",
    "T5t = iteradores.itera_turbina(Wt, G5, T4t, aire)\n",
    "\n",
    "H5t = G5*aire.cp(T5t)*T5t\n",
    "\n",
    "Tturb = (T5t + T4t)/2\n",
    "pi_t = ((T5t/T4t - 1)/ rend_t + 1)**(aire.gamma(Tturb)/(aire.gamma(Tturb)-1))\n",
    "p5t = p4t*pi_t\n",
    "\n",
    "etapa = \"TURB\"\n",
    "print(\"{:5s}:  pt={:8.0f}Pa;  Tt={:4.0f}K;  G={:5.1f}kg/s;  Ht={:7.3f}MW\".format(etapa, p5t, T5t, G5, H5t*1e-6))"
   ]
  },
  {
   "cell_type": "markdown",
   "id": "a39f8460-57a2-4557-8853-61a12560093b",
   "metadata": {},
   "source": [
    "Tobera isoentrópica: $\\rightarrow \\frac{T_9}{T_{9t}} = \\left(\\frac{p_9}{p_{9t}}\\right)^{\\frac{\\gamma}{\\gamma-1}}$"
   ]
  },
  {
   "cell_type": "code",
   "execution_count": 28,
   "id": "3694f270-ea81-4c4c-81f5-0c959f0e5516",
   "metadata": {},
   "outputs": [
    {
     "name": "stdout",
     "output_type": "stream",
     "text": [
      "TOB  :  pt=  250160Pa;  Tt=1394K;  G= 73.6kg/s;  Ht=123.073MW\n",
      "1.663149605025283 1013.2427689542044 965.8138296627029 54019.912103762086 0.3728499676296921\n"
     ]
    }
   ],
   "source": [
    "# Tobera\n",
    "T9t = T8t = T7t = T5t\n",
    "p9t = p8t = p7t = p5t\n",
    "G9 = G8 = G7 = G5\n",
    "H9t = H8t= H7t = H5t\n",
    "\n",
    "p9 = p0\n",
    "T9 = (p9/p9t)**((aire.gamma(T9t) - 1)/aire.gamma(T9t)) * T9t\n",
    "rho9 = p9/T9/aire.Rg\n",
    "                    \n",
    "v9 = np.sqrt(2*aire.cp(T9t)*(T9t-T9))\n",
    "\n",
    "M9 = aire_isent.mach_number(v9, T9)\n",
    "A9 = G9/v9/rho9\n",
    "\n",
    "etapa = \"TOB\"\n",
    "print(\"{:5s}:  pt={:8.0f}Pa;  Tt={:4.0f}K;  G={:5.1f}kg/s;  Ht={:7.3f}MW\".format(etapa, p9t, T9t, G9, H9t*1e-6))\n",
    "\n",
    "print(M9, v9, T9, p9, A9)"
   ]
  },
  {
   "cell_type": "code",
   "execution_count": 29,
   "id": "bbe53bd6-5e46-40b8-8233-910e395db336",
   "metadata": {},
   "outputs": [
    {
     "name": "stdout",
     "output_type": "stream",
     "text": [
      "E= 59.9kN;  ce= 40.824g/skN;  Isp=813.2m/s\n"
     ]
    }
   ],
   "source": [
    "# Actuaciones\n",
    "E = G9*v9 - G0*v0 + A9 * (p9-p0)\n",
    "ce = c/E\n",
    "Isp = E/G9\n",
    "print(\"E={0:5.1f}kN;  ce={1:7.3f}g/skN;  Isp={2:5.1f}m/s\".format(E*1e-3, ce*1e6, Isp))"
   ]
  },
  {
   "cell_type": "code",
   "execution_count": 36,
   "id": "ef785307-0558-4fcb-9b88-3af98b15b47c",
   "metadata": {},
   "outputs": [
    {
     "name": "stdout",
     "output_type": "stream",
     "text": [
      "Dif_1:  pt=   70231Pa;  Tt= 276K;  G= 73.6kg/s;  Ht= 20.364MW\n",
      "Dif_2:  pt=   70231Pa;  Tt= 276K;  G= 73.6kg/s;  Ht= 20.364MW\n",
      "COMP1:  pt=  351154Pa;  Tt= 488K;  G= 73.6kg/s;  Ht= 36.931MW\n",
      "COMP2:  pt= 1755768Pa;  Tt= 841K;  G= 73.6kg/s;  Ht= 68.638MW\n",
      "COMB :  pt= 1755768Pa;  Tt=1971K;  G= 73.6kg/s;  Ht=181.111MW\n",
      "TURB :  pt=  250160Pa;  Tt=1394K;  G= 73.6kg/s;  Ht=123.073MW\n",
      "TOB  :  pt=  250160Pa;  Tt=1394K;  G= 73.6kg/s;  Ht=123.073MW\n",
      "1.663149605025283 1013.2427689542044 965.8138296627029 54019.912103762086 0.3728499676296921\n"
     ]
    }
   ],
   "source": [
    "etapa = \"Dif_1\"\n",
    "print(\"{:5s}:  pt={:8.0f}Pa;  Tt={:4.0f}K;  G={:5.1f}kg/s;  Ht={:7.3f}MW\".format(etapa, p1t, T1t, G1, H1t*1e-6))\n",
    "\n",
    "etapa = \"Dif_2\"\n",
    "print(\"{:5s}:  pt={:8.0f}Pa;  Tt={:4.0f}K;  G={:5.1f}kg/s;  Ht={:7.3f}MW\".format(etapa, p2t, T2t, G2, H2t*1e-6))\n",
    "\n",
    "etapa = \"COMP1\"\n",
    "print(\"{:5s}:  pt={:8.0f}Pa;  Tt={:4.0f}K;  G={:5.1f}kg/s;  Ht={:7.3f}MW\".format(etapa, p25t, T25t, G3, H25t*1e-6))\n",
    "\n",
    "etapa = \"COMP2\"\n",
    "print(\"{:5s}:  pt={:8.0f}Pa;  Tt={:4.0f}K;  G={:5.1f}kg/s;  Ht={:7.3f}MW\".format(etapa, p3t, T3t, G3, H3t*1e-6))\n",
    "\n",
    "etapa = \"COMB\"\n",
    "print(\"{:5s}:  pt={:8.0f}Pa;  Tt={:4.0f}K;  G={:5.1f}kg/s;  Ht={:7.3f}MW\".format(etapa, p4t, T4t, G4, H4t*1e-6))\n",
    "\n",
    "etapa = \"TURB\"\n",
    "print(\"{:5s}:  pt={:8.0f}Pa;  Tt={:4.0f}K;  G={:5.1f}kg/s;  Ht={:7.3f}MW\".format(etapa, p5t, T5t, G5, H5t*1e-6))\n",
    "\n",
    "etapa = \"TOB\"\n",
    "print(\"{:5s}:  pt={:8.0f}Pa;  Tt={:4.0f}K;  G={:5.1f}kg/s;  Ht={:7.3f}MW\".format(etapa, p9t, T9t, G9, H9t*1e-6))\n",
    "\n",
    "print(M9, v9, T9, p9, A9)"
   ]
  },
  {
   "cell_type": "code",
   "execution_count": 35,
   "id": "aa33ed72-b0fb-4432-a5ed-90930a6381ab",
   "metadata": {},
   "outputs": [],
   "source": [
    "# Turborreactor completo:\n",
    "def turborreactor(rho0, v0):\n",
    "    G2 = G1=G0 = Ae*v0*rho0\n",
    "    M1=M0 = aire_isent.mach_number(v0, T0)\n",
    "    T2t = T1t=T0t = aire_isent.stag_temp_from_mach(M0, T0)\n",
    "    p2t = p1t=p0t = aire_isent.stag_pressure_from_mach(M0, p0, T0)\n",
    "    H1t = G1*aire.cp(T1t)*T1t\n",
    "\n",
    "    # Compresor baja\n",
    "    p25t = p2t * pi_c1\n",
    "    T25t = iteradores.itera_compresor(rend_c1, pi_c1, T2t, aire)\n",
    "    G25 = G2\n",
    "    H25t = G25 * aire.cp(T25t) * T25t\n",
    "    Wc1 = H25t-H2t\n",
    "\n",
    "    # Compresor alta\n",
    "    Tcomp2 = T25t\n",
    "    p3t = p25t * pi_c2\n",
    "    T3t = iteradores.itera_compresor(rend_c2, pi_c2, T25t, aire)\n",
    "    G3 = G25\n",
    "    H3t = G3 * aire.cp(T3t) * T3t\n",
    "    Wc2 = H3t-H25t\n",
    "\n",
    "    # Cámara de combustión\n",
    "    G4 = G3 # Hipótesis de combustión diluida\n",
    "    f = ratio_equiv*fs\n",
    "    c = G3*f\n",
    "    Q43 = rend_cc * c * L\n",
    "    T4t = iteradores.itera_combustor(Q43, G4, T3t, aire)\n",
    "    p4t = p3t * pi_cc\n",
    "    H4t = G4*aire.cp(T4t)*T4t\n",
    "\n",
    "    # Turbina\n",
    "    Wconsumidores = 1.08*(Wc1 + Wc2)\n",
    "    Wt = -Wconsumidores\n",
    "    G5 = G4\n",
    "    T5t = iteradores.itera_turbina(Wt, G5, T4t, aire)\n",
    "    H5t = G5*aire.cp(T5t)*T5t\n",
    "    Tturb = (T5t + T4t)/2\n",
    "    pi_t = ((T5t/T4t - 1)/ rend_t + 1)**(aire.gamma(Tturb)/(aire.gamma(Tturb)-1))\n",
    "    p5t = p4t*pi_t\n",
    "\n",
    "    # Tobera\n",
    "    T9t = T8t = T7t = T5t\n",
    "    p9t = p8t = p7t = p5t\n",
    "    G9 = G8 = G7 = G5\n",
    "    H9t = H8t= H7t = H5t\n",
    "    p9 = p0\n",
    "    T9 = (p9/p9t)**((aire.gamma(T9t) - 1)/aire.gamma(T9t)) * T9t\n",
    "    rho9 = p9/T9/aire.Rg\n",
    "    v9 = np.sqrt(2*aire.cp(T9t)*(T9t-T9))\n",
    "    M9 = aire_isent.mach_number(v9, T9)\n",
    "    A9 = G9/v9/rho9\n",
    "    \n",
    "    return p3t, p4t, T5t, v9"
   ]
  }
 ],
 "metadata": {
  "kernelspec": {
   "display_name": "Python 3 (ipykernel)",
   "language": "python",
   "name": "python3"
  },
  "language_info": {
   "codemirror_mode": {
    "name": "ipython",
    "version": 3
   },
   "file_extension": ".py",
   "mimetype": "text/x-python",
   "name": "python",
   "nbconvert_exporter": "python",
   "pygments_lexer": "ipython3",
   "version": "3.9.12"
  }
 },
 "nbformat": 4,
 "nbformat_minor": 5
}
