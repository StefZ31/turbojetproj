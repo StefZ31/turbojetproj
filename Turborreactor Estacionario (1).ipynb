{
 "cells": [
  {
   "cell_type": "markdown",
   "metadata": {},
   "source": [
    "## Turborreactor estacionario\n",
    "\n",
    "Se tiene un turborreactor volando a 32000ft de altura, a una velocidad de 350KIAS. El turborreactor está compuesto por un difusor de rendimiento adiabático 90%, un compresor de rendimiento 75%, una turbina acoplada mecánicamente con rendimiento del 85%, una cámara de combustión de rendimiento 95% y una tobera isoentrópica. \n",
    "\n",
    "En el compresor se consigue una relación de presiones de remanso entre la entrada y la salida de 10:1, y en la cámara de combustión se sufre una caída de preisón de remanso del 8%. Además, se sabe que la tobera está adaptada, de forma que expande la corriente de forma óptima consiguiendo la máxima velocidad de salida.\n",
    "\n",
    "Dada un área de entrada de $A_1=0.8m^2$ del motor, un dosado de $f=0.0015$ en combustión y un poder calorífico del combustible quemado de $L=43\\frac{MJ}{kg}$, se pide:\n",
    "\n",
    "---\n",
    "1. Obtener la potencia inyectada a la corriente por el compresor\n",
    "2. Obtener la temperatura de remanso en cámara de combustión y en turbina\n",
    "3. Obtener el empuje y el rendimiento motopropulsor\n",
    "4. Calcular el consumo específico y el impulso ofrecido por el motor\n",
    "\n",
    "---\n",
    "\n",
    "Se puede asumir combustión diluida y gas ideal. $R_a=287 \\frac{J}{kg K}$ , $\\gamma_a=1.4$, $c_p=1000 \\frac{J}{kg K}$"
   ]
  },
  {
   "cell_type": "markdown",
   "metadata": {},
   "source": [
    "## Solución"
   ]
  },
  {
   "cell_type": "markdown",
   "metadata": {},
   "source": [
    "#### Datos del enunciado:"
   ]
  },
  {
   "cell_type": "code",
   "execution_count": 1,
   "metadata": {},
   "outputs": [],
   "source": [
    "import numpy as np\n",
    "## Datos del enunciado\n",
    "# Datos para modelo de atmósfera\n",
    "g = 9.81 #m/s^2 aceleración de la gravedad\n",
    "Tref = 288.15 #K, temperatura ambiente a nivel del mar, referencia\n",
    "pref = 101325 #Pa, presión ambiente a nivel del mar, referencia\n",
    "alpha = -0.0065 #ºC/1m gradiente térmico en troposfera\n",
    "deltaT= 0 #ºC desviación sobre el día estándar, se asume cero.\n",
    "\n",
    "# Constantes del aire:\n",
    "cp = 1e3 #J/kg/K\n",
    "gamma_a = 1.4\n",
    "Ra = 287 #J/kg/K\n",
    "\n",
    "## Atmósfera Estándar Internacional:\n",
    "# Temperatura ISA\n",
    "def T_isa(deltaT, h):\n",
    "    T_ = Tref + alpha * h + deltaT\n",
    "    return T_\n",
    "\n",
    "# Presión ISA\n",
    "def p_isa(T0, h):\n",
    "    return pref * (1 + alpha*h/T0)**(-g/Ra/alpha)\n"
   ]
  },
  {
   "cell_type": "code",
   "execution_count": 2,
   "metadata": {},
   "outputs": [],
   "source": [
    "## Datos de vuelo\n",
    "v0 = 350   # KIAS\n",
    "h0 = 32000 #ft\n",
    "\n",
    "v0 = v0 * 1852/3600 #velocidad de vuelo en m/s\n",
    "h0 = h0 * 0.3048 #altitud de vuelo en m\n",
    "\n",
    "A1 = 0.8 #m^2\n",
    "\n",
    "# Presión y temperatura estática local:\n",
    "T0 = T_isa(deltaT, h0)\n",
    "p0 = p_isa(Tref, h0)"
   ]
  },
  {
   "cell_type": "code",
   "execution_count": 3,
   "metadata": {},
   "outputs": [],
   "source": [
    "## Datos del motor:\n",
    "rend_d    = 0.9   # Rendimiento adiabático del difusor\n",
    "Pi_c      = 10    # Relación de compresión del compresor\n",
    "rend_c    = 0.75  # Rendimiento adiabático del compresor\n",
    "Pi_43     = 0.92  # Caída de presión en cámara de combustión\n",
    "rend_comb = 0.95  # Rendimiento de la combustión\n",
    "L         = 42e6  # Poder calorífico del combustible\n",
    "f         = 0.01  # Dosado de la mezcla\n",
    "rend_t    = 0.85  # Rendimiento adiabático de la turbina\n",
    "rend_to   = 1     # Tobera isoentrópica"
   ]
  },
  {
   "cell_type": "code",
   "execution_count": 4,
   "metadata": {},
   "outputs": [
    {
     "name": "stdout",
     "output_type": "stream",
     "text": [
      "p0=27430Pa; T0=225K, h0= 9754m; v0=180.06m/s\n",
      "p0t=34964Pa; T0t=241K, M0=0.599\n"
     ]
    }
   ],
   "source": [
    "## Magnitudes de remanso de vuelo:\n",
    "M0 = v0 /np.sqrt(gamma_a*Ra*T0)\n",
    "T0t = T0 * (1 + (gamma_a-1)/2 * M0**2)\n",
    "p0t = p0 * (T0t/T0)**(gamma_a/(gamma_a-1))\n",
    "\n",
    "print('p0={0:5.0f}Pa; T0={1:3.0f}K, h0={2:5.0f}m; v0={3:4.2f}m/s'.format(p0, T0, h0, v0))\n",
    "print('p0t={0:5.0f}Pa; T0t={1:3.0f}K, M0={2:1.3f}'.format(p0t, T0t, M0))"
   ]
  },
  {
   "cell_type": "code",
   "execution_count": 5,
   "metadata": {},
   "outputs": [
    {
     "name": "stdout",
     "output_type": "stream",
     "text": [
      "G1=61.3kg/s\n"
     ]
    }
   ],
   "source": [
    "## Entrada del motor:\n",
    "p1t = p0t\n",
    "T1t = T0t\n",
    "rho1 = p0/Ra/T0\n",
    "G1 = rho1 * A1 * v0\n",
    "\n",
    "print('G1={0:3.1f}kg/s'.format(G1))"
   ]
  },
  {
   "cell_type": "code",
   "execution_count": 6,
   "metadata": {},
   "outputs": [
    {
     "name": "stdout",
     "output_type": "stream",
     "text": [
      "p2t = 34151.4Pa, T2t = 240.88898331827758K\n"
     ]
    }
   ],
   "source": [
    "## Salida del difusor\n",
    "T2t = T1t\n",
    "p1 = p0\n",
    "T1 = T0\n",
    "p2t = p1 * ((T2t/T1 - 1) * rend_d + 1)**(gamma_a/(gamma_a-1))\n",
    "\n",
    "print('p2t = {0:6.1f}Pa, T2t = {1}K'.format(p2t, T2t))"
   ]
  },
  {
   "cell_type": "code",
   "execution_count": 7,
   "metadata": {},
   "outputs": [
    {
     "name": "stdout",
     "output_type": "stream",
     "text": [
      "p3t=341514Pa, T3t= 540K\n"
     ]
    }
   ],
   "source": [
    "## Salida del compresor\n",
    "p3t = Pi_c*p2t\n",
    "T3t = T2t * (1+(Pi_c**((gamma_a-1)/gamma_a)-1)/rend_c )\n",
    "\n",
    "print('p3t={0:6.0f}Pa, T3t={1:4.0f}K'.format(p3t, T3t))"
   ]
  },
  {
   "cell_type": "code",
   "execution_count": 8,
   "metadata": {},
   "outputs": [
    {
     "name": "stdout",
     "output_type": "stream",
     "text": [
      "p4t=314193Pa, T4t= 939K\n"
     ]
    }
   ],
   "source": [
    "## Salida de la cámara de combustión\n",
    "p4t = p3t*Pi_43\n",
    "\n",
    "c=G1*f\n",
    "G3 = G1\n",
    "Qcomb=rend_comb * c * L\n",
    "\n",
    "T4t = T3t + Qcomb/G3/cp\n",
    "\n",
    "print('p4t={0:6.0f}Pa, T4t={1:4.0f}K'.format(p4t, T4t))"
   ]
  },
  {
   "cell_type": "code",
   "execution_count": 9,
   "metadata": {},
   "outputs": [
    {
     "name": "stdout",
     "output_type": "stream",
     "text": [
      "p5t= 60779Pa, T5t= 640K\n"
     ]
    }
   ],
   "source": [
    "## Salida de la turbina\n",
    "T5t = T4t - T3t + T2t\n",
    "p5t = ((T5t/T4t - 1)/rend_t + 1)**(gamma_a/(gamma_a-1)) * p4t\n",
    "\n",
    "print('p5t={0:6.0f}Pa, T5t={1:4.0f}K'.format(p5t, T5t))"
   ]
  },
  {
   "cell_type": "code",
   "execution_count": 10,
   "metadata": {},
   "outputs": [
    {
     "name": "stdout",
     "output_type": "stream",
     "text": [
      "p9= 27430Pa, T9= 510K\n"
     ]
    }
   ],
   "source": [
    "## Salida del motor:\n",
    "p9 = p0 #Tobera adaptada\n",
    "T9 = T5t * ((rend_to * (((p9/p5t)**((gamma_a-1)/gamma_a))-1))+1)\n",
    "print('p9={0:6.0f}Pa, T9={1:4.0f}K'.format(p9, T9))"
   ]
  },
  {
   "cell_type": "code",
   "execution_count": 11,
   "metadata": {},
   "outputs": [],
   "source": [
    "## Cálculo de empuje, impulso y consumo específico:\n",
    "v9 = np.sqrt(2*cp*(T5t - T9)) # Velocidad de la corriente a través de la temperatura en 9\n",
    "E=G1*(v9-v0) # Empuje con combustón diluida y tobera adaptada\n",
    "Isp = E/G1 # Impulso específico\n",
    "cE = c/E #consumo Específico"
   ]
  },
  {
   "cell_type": "code",
   "execution_count": 12,
   "metadata": {},
   "outputs": [
    {
     "name": "stdout",
     "output_type": "stream",
     "text": [
      "v9=510.1m/s, E=20218N, Isp=330.1m/s, cE=3.0297e-05kg/s/N\n"
     ]
    }
   ],
   "source": [
    "print('v9={0:4.1f}m/s, E={1:5.0f}N, Isp={2:3.1f}m/s, cE={3:0.4e}kg/s/N'.format(v9, E, Isp, cE))"
   ]
  }
 ],
 "metadata": {
  "kernelspec": {
   "display_name": "Python [default]",
   "language": "python",
   "name": "python3"
  },
  "language_info": {
   "codemirror_mode": {
    "name": "ipython",
    "version": 3
   },
   "file_extension": ".py",
   "mimetype": "text/x-python",
   "name": "python",
   "nbconvert_exporter": "python",
   "pygments_lexer": "ipython3",
   "version": "3.5.4"
  }
 },
 "nbformat": 4,
 "nbformat_minor": 2
}
