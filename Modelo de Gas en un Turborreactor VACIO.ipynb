{
 "cells": [
  {
   "cell_type": "markdown",
   "id": "546309b0-fdbe-48a4-9306-90b52b5be3b9",
   "metadata": {},
   "source": [
    "# Modelo de Gas en un Turborreactor\n",
    "\n",
    "Resuelva un turborreactor de $0.5m^2$ de área de entrada, con difusor y tobera isoentrópicas, dos compresores de relación de compresión $5:1$ y rendimiento adiabático del $75\\%$ acoplados a una única turbina de rendimiento $80\\%$ y cuyo eje produce pérdidas por valor de un $8\\%$ de la energía generada. La combustión con pérdida de carga despreciable y un rendimiento de la combustión del $95\\%se produce a un ratio de equivalencia del $50\\%$ con un combustible de $43\\frac{MJ}{kg}$.\n",
    "\n",
    "Asuma velocidad de entrada de la corriente laminar de 200 $\\frac{m}{s}$ y altura de vuelo de $5000m$.\n",
    "\n",
    "Con todo esto obtenga las actuaciones y compare los resultados entre la aproximación de gas perfecto y la de gas semiperfecto. Establezca, en el modelo de gas semiperfeto, la evolución de calor específico y coeficiente de dilatación adiabático variables en cada estación."
   ]
  },
  {
   "cell_type": "code",
   "execution_count": null,
   "id": "85f5001a-2a99-4a52-bf1f-5ddb54e4ae9b",
   "metadata": {},
   "outputs": [],
   "source": []
  }
 ],
 "metadata": {
  "kernelspec": {
   "display_name": "Python 3 (ipykernel)",
   "language": "python",
   "name": "python3"
  },
  "language_info": {
   "codemirror_mode": {
    "name": "ipython",
    "version": 3
   },
   "file_extension": ".py",
   "mimetype": "text/x-python",
   "name": "python",
   "nbconvert_exporter": "python",
   "pygments_lexer": "ipython3",
   "version": "3.9.12"
  }
 },
 "nbformat": 4,
 "nbformat_minor": 5
}
