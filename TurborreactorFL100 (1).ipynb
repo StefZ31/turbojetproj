{
 "cells": [
  {
   "cell_type": "markdown",
   "metadata": {},
   "source": [
    "## Turborreactor en vuelo FL100/250KTS\n",
    "\n",
    "Se dispone de un turborreactor a $FL100$ (nivel de vuelo $10000ft$) volando en un vehículo a $v_0=250KTS$. El turborreactor toma $60\\frac{kg}{s}$ por su difusor, en el que se conoce que la presión y temperatura estáticas ($p_1, T_1$) son como las de la atmósfera estándar internacional.\n",
    "\n",
    "El turborreactor tiene una arquitectura conocida compuesta por un difusor isoentrópico, dos compresores de rendimientos conocidos ($\\eta_{c1}=0.8$,  $\\eta_{c2}=0.75$) y de relación de compresión 3:1 y 5:1 respectivamente, una cámara de combustión sin pérdida de carga y rendimiento de combustión del 90\\% y una única turbina que acopla a ambos compresores de rendimiento 90\\%. El turborreactor descarga por una tobera de la que se sabe que que es isoentrópica y tiene un área de $A_9=0.2063m^2$.\n",
    "\n",
    "El combustible empleado es un hidrocarburo de dosado $f=0.035$ y poder calorífico $L=42\\frac{MJ}{kg}$.\n",
    "\n",
    "Se pide:\n",
    "1. Calcular Mach de la corriente libre y área de entrada al turborreactor\n",
    "2. Obtener la presión y temperatura de remanso en todas las estaciones\n",
    "3. Resolver la tobera y calcular la velocidad de eyección de la corriente\n",
    "4. Empuje, impulso, consumo específico y rendimiento\n",
    "\n",
    "Nota: La resolución numérica de este notebook requiere de `pyTurb` (https://github.com/MRod5/pyturb) instalado para su ejecución."
   ]
  },
  {
   "cell_type": "code",
   "execution_count": 2,
   "metadata": {},
   "outputs": [],
   "source": [
    "from pyturb.gas_models import PerfectIdealGas\n",
    "from pyturb.gas_models import IsentropicFlow\n",
    "from pyturb.gas_models import isa\n",
    "from pyturb.utils import units\n",
    "import numpy as np"
   ]
  },
  {
   "cell_type": "code",
   "execution_count": 3,
   "metadata": {},
   "outputs": [],
   "source": [
    "aire = PerfectIdealGas('Air')\n",
    "aire_isentropico = IsentropicFlow(aire)"
   ]
  },
  {
   "cell_type": "code",
   "execution_count": 4,
   "metadata": {},
   "outputs": [],
   "source": [
    "G1 = 60 #kg/s\n",
    "h1 = units.ft_to_m*10000\n",
    "v1 = units.kts_to_ms*250\n",
    "\n",
    "pic1 = 3\n",
    "pic2 = 5\n",
    "eta_c1 = 0.8\n",
    "eta_c2 = 0.75\n",
    "eta_q = 0.9\n",
    "eta_t = 0.9\n",
    "\n",
    "f = 0.035\n",
    "L = 42e6 #J/kg\n",
    "A9 = 0.2063 #m^2"
   ]
  },
  {
   "cell_type": "code",
   "execution_count": 5,
   "metadata": {},
   "outputs": [
    {
     "name": "stdout",
     "output_type": "stream",
     "text": [
      " h1=  3048m;     v1= 128.6m/s;  M1= 0.392[-]\n",
      " A1=0.5157m^2;   p1= 69682m/s;  T1= 268.3K;  rho1=0.905M^2\n",
      "p1t= 77455Pa;   T1t= 276.6K;   H1t= 16.67MW\n"
     ]
    }
   ],
   "source": [
    "T1 = isa.temperature_isa(h1)\n",
    "p1 = isa.pressure_isa(h1)\n",
    "M1 = aire_isentropico.mach_number(v1,T1)\n",
    "T1t = aire_isentropico.stag_temp_from_mach(M1, T1)\n",
    "p1t = aire_isentropico.stag_pressure_from_mach(M1, p1)\n",
    "rho1 = p1/aire.Rg/T1\n",
    "A1 = G1/rho1/v1\n",
    "H1t = G1*aire.cp()*T1t\n",
    "\n",
    "print(' h1={:6.0f}m;     v1={:6.1f}m/s;  M1={:6.3f}[-]'.format(h1, v1, M1))\n",
    "print(' A1={:6.4f}m^2;   p1={:6.0f}m/s;  T1={:6.1f}K;  rho1={:5.3f}M^2'.format(A1, p1, T1, rho1))\n",
    "print('p1t={:6.0f}Pa;   T1t={:6.1f}K;   H1t={:6.2f}MW'.format(p1t, T1t, H1t*1e-6))"
   ]
  },
  {
   "cell_type": "code",
   "execution_count": 6,
   "metadata": {},
   "outputs": [
    {
     "name": "stdout",
     "output_type": "stream",
     "text": [
      " p2t=   77455Pa;  T2t= 276.6K;  H2t= 16.67MW\n",
      "p25t=  232364Pa; T25t= 404.0K; H23t= 24.36MW\n",
      " p3t= 1161822Pa;  T3t= 718.5K;  H3t= 43.32MW\n"
     ]
    }
   ],
   "source": [
    "G3 = G25 = G2 = G1\n",
    "T2t = T1t # Difusor\n",
    "p2t = p1t # Isoentrópico\n",
    "H2t = H1t # Difusor\n",
    "\n",
    "p25t = p2t * pic1\n",
    "p3t = p25t * pic2\n",
    "T25t = ((pic1**((aire.gamma()-1)/aire.gamma()) - 1) / (eta_c1) + 1) * T2t\n",
    "T3t = ((pic2**((aire.gamma()-1)/aire.gamma()) - 1) / (eta_c2) + 1) * T25t\n",
    "H25t = G25*aire.cp()*T25t\n",
    "H3t = G3*aire.cp()*T3t\n",
    "\n",
    "Wc1 = H25t - H2t\n",
    "Wc2 = H3t - H25t\n",
    "print(' p2t={:8.0f}Pa;  T2t={:6.1f}K;  H2t={:6.2f}MW'.format(p2t, T2t, H2t*1e-6))\n",
    "print('p25t={:8.0f}Pa; T25t={:6.1f}K; H23t={:6.2f}MW'.format(p25t, T25t, H25t*1e-6))\n",
    "print(' p3t={:8.0f}Pa;  T3t={:6.1f}K;  H3t={:6.2f}MW'.format(p3t, T3t, H3t*1e-6))"
   ]
  },
  {
   "cell_type": "code",
   "execution_count": 7,
   "metadata": {},
   "outputs": [
    {
     "name": "stdout",
     "output_type": "stream",
     "text": [
      " p4t= 1161822Pa;  T4t=1966.5K;  H4t=122.70MW\n"
     ]
    }
   ],
   "source": [
    "p4t = p3t\n",
    "c = f*G3\n",
    "G4 = G3 + c\n",
    "Q43 = eta_q*c*L\n",
    "H4t = H3t + Q43\n",
    "T4t = H4t/G4/aire.cp()\n",
    "print(' p4t={:8.0f}Pa;  T4t={:6.1f}K;  H4t={:6.2f}MW'.format(p4t, T4t, H4t*1e-6))"
   ]
  },
  {
   "cell_type": "code",
   "execution_count": 8,
   "metadata": {},
   "outputs": [
    {
     "name": "stdout",
     "output_type": "stream",
     "text": [
      " p5t=  441990Pa;  T5t=1539.5K;  H5t= 96.05MW\n"
     ]
    }
   ],
   "source": [
    "G5 = G4\n",
    "Wt = -(Wc1+Wc2)\n",
    "H5t = Wt + H4t\n",
    "T5t = H5t/G5/aire.cp()\n",
    "p5t = ((T5t/T4t - 1)/eta_t + 1)**(aire.gamma()/(aire.gamma()-1)) * p4t\n",
    "print(' p5t={:8.0f}Pa;  T5t={:6.1f}K;  H5t={:6.2f}MW'.format(p5t, T5t, H5t*1e-6))"
   ]
  },
  {
   "cell_type": "code",
   "execution_count": 9,
   "metadata": {},
   "outputs": [],
   "source": [
    "G9 = G8 = G7 = G5\n",
    "p9t = p8t = p7t = p5t\n",
    "T9t = T8t = T7t = T5t\n",
    "H9t = H8t = H7t = H5t"
   ]
  },
  {
   "cell_type": "code",
   "execution_count": 10,
   "metadata": {},
   "outputs": [
    {
     "name": "stdout",
     "output_type": "stream",
     "text": [
      "0 14507.72127206873 580.0211177122299 311.6831177122299\n",
      "1 36094.83008740942 752.5541890640704 172.5330713518406\n",
      "2 51711.311097508165 833.9642966092018 81.41010754513138\n",
      "3 60521.40011860219 872.3034724056416 38.339175796439804\n",
      "4 65097.179933921594 890.6580326499857 18.354560244344043\n",
      "5 67400.5161836193 899.5501698938874 8.892137243901743\n",
      "6 68544.75768699123 903.8870502996247 4.336880405737247\n",
      "7 69109.80624389459 906.0096328800346 2.122582580409926\n",
      "8 69388.05536763836 907.0503120301902 1.0406791501555972\n",
      "9 69524.8897925367 907.5609931590415 0.5106811288512745\n",
      "10 69592.13664520865 907.8117027355779 0.2507095765364511\n",
      "11 69625.17430913608 907.9348102981619 0.12310756258398214\n",
      "12 69641.40281358092 907.9952669563204 0.06045665815850043\n",
      "13 69649.37383936043 908.0249580333359 0.029691077015513656\n",
      "14 69653.28885506933 908.0395400898213 0.014582056485437533\n",
      "15 69655.21170212895 908.0467018044116 0.007161714590210977\n",
      "16 69656.15609351489 908.0502191731495 0.0035173687379028706\n",
      "17 69656.61992192637 908.0519466812557 0.001727508106228015\n",
      "18 69656.84772612443 908.0527951247608 0.0008484435051059336\n",
      "19 69656.95960951778 908.0532118272356 0.00041670247480851685\n",
      "20 69657.01455972141 908.053416485546 0.00020465831039473414\n",
      "21 69657.04154785612 908.0535170009831 0.00010051543711142585\n",
      "22 69657.05480275373 908.0535663679202 4.936693710533291e-05\n",
      "\n",
      "v9=1126.4m/s\n"
     ]
    }
   ],
   "source": [
    "itera = True\n",
    "n_iter = 0\n",
    "iter_max = 100\n",
    "tolerancia = 1e-4\n",
    "T9_ = T1\n",
    "while itera:\n",
    "    p9_ = G9*aire.Rg*T9_ / (A9 * np.sqrt(2*aire.cp()*(T9t-T9_)))\n",
    "    T9 = T9t/((p9t/p9_)**((aire.gamma()-1)/aire.gamma()))\n",
    "    residuo = np.abs(T9-T9_)\n",
    "    print(n_iter, p9_, T9, residuo)\n",
    "    if residuo <= tolerancia:\n",
    "        print()\n",
    "        itera = False\n",
    "    elif n_iter>= iter_max:\n",
    "        print()\n",
    "        itera = False\n",
    "    else:\n",
    "        n_iter = n_iter + 1\n",
    "        T9_ = T9\n",
    "        itera = True\n",
    "p9 = p9_\n",
    "v9 = np.sqrt(2*aire.cp()*(T9t-T9))\n",
    "print('v9={:6.1f}m/s'.format(v9))"
   ]
  },
  {
   "cell_type": "code",
   "execution_count": 11,
   "metadata": {},
   "outputs": [
    {
     "name": "stdout",
     "output_type": "stream",
     "text": [
      "E= 62.23kN;  Isp=1002.1m/s;  ce=0.0337g/N/s\n",
      "eta_m=0.441[-]; eta_p=0.206[-];  eta_mp=0.091[-]\n"
     ]
    }
   ],
   "source": [
    "E = G9*v9 - G1*v1 + A9*(p9-p1)\n",
    "Isp = E/G9\n",
    "ce = c/E\n",
    "eta_m = (G9*v9**2 - G1*v1**2)/(2*c*L)\n",
    "eta_p = 2*v1*(G9*v9-G1*v1)/(G9*v9**2 - G1*v1**2)\n",
    "eta_mp = eta_m*eta_p\n",
    "\n",
    "print('E={:6.2f}kN;  Isp={:6.1f}m/s;  ce={:6.4f}g/N/s'.format(E*1e-3, Isp, ce*1e3))\n",
    "print('eta_m={:5.3f}[-]; eta_p={:5.3f}[-];  eta_mp={:5.3f}[-]'.format(eta_m, eta_p, eta_mp))"
   ]
  },
  {
   "cell_type": "code",
   "execution_count": null,
   "metadata": {},
   "outputs": [],
   "source": []
  },
  {
   "cell_type": "code",
   "execution_count": null,
   "metadata": {},
   "outputs": [],
   "source": []
  }
 ],
 "metadata": {
  "kernelspec": {
   "display_name": "Python 3 (ipykernel)",
   "language": "python",
   "name": "python3"
  },
  "language_info": {
   "codemirror_mode": {
    "name": "ipython",
    "version": 3
   },
   "file_extension": ".py",
   "mimetype": "text/x-python",
   "name": "python",
   "nbconvert_exporter": "python",
   "pygments_lexer": "ipython3",
   "version": "3.9.7"
  }
 },
 "nbformat": 4,
 "nbformat_minor": 4
}
